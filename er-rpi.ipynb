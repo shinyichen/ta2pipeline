{
 "cells": [
  {
   "cell_type": "markdown",
   "metadata": {},
   "source": [
    "# DF analysis"
   ]
  },
  {
   "cell_type": "code",
   "execution_count": 10,
   "metadata": {},
   "outputs": [],
   "source": [
    "import os\n",
    "import pandas as pd\n",
    "import numpy as np\n",
    "import json\n",
    "import matplotlib.pyplot as plt\n",
    "import rltk"
   ]
  },
  {
   "cell_type": "code",
   "execution_count": 12,
   "metadata": {
    "tags": [
     "parameters"
    ]
   },
   "outputs": [],
   "source": [
    "repo_name = 'jchen-test-ta1'\n",
    "input_df_path = 'dryrun-3-GAIA_2_v1-ta1_entity_trans_all_001.h5'\n",
    "version = '001'\n",
    "output_path = 'clusters-{}-{}.jl'.format(repo_name, version)\n",
    "kg_tab_dir_path = '/nas/gaia/corpora/LDC2019E43_AIDA_Phase_1_Evaluation_Reference_Knowledge_Base/data/'"
   ]
  },
  {
   "cell_type": "code",
   "execution_count": 3,
   "metadata": {},
   "outputs": [],
   "source": [
    "pd.set_option('display.max_rows', 500)\n",
    "pd.set_option('display.max_columns', 500)\n",
    "pd.set_option('max_colwidth', 800)\n",
    "pd.set_option('display.width', 1000)"
   ]
  },
  {
   "cell_type": "code",
   "execution_count": 4,
   "metadata": {},
   "outputs": [
    {
     "ename": "FileNotFoundError",
     "evalue": "File store_data/dryrun-3-GAIA_2_v1-ta1_entity_trans_all_001.h5 does not exist",
     "output_type": "error",
     "traceback": [
      "\u001b[0;31m---------------------------------------------------------------------------\u001b[0m",
      "\u001b[0;31mFileNotFoundError\u001b[0m                         Traceback (most recent call last)",
      "\u001b[0;32m<ipython-input-4-1654f83c88c4>\u001b[0m in \u001b[0;36m<module>\u001b[0;34m\u001b[0m\n\u001b[0;32m----> 1\u001b[0;31m \u001b[0mdf_entity\u001b[0m \u001b[0;34m=\u001b[0m \u001b[0mpd\u001b[0m\u001b[0;34m.\u001b[0m\u001b[0mread_hdf\u001b[0m\u001b[0;34m(\u001b[0m\u001b[0minput_df_path\u001b[0m\u001b[0;34m)\u001b[0m\u001b[0;34m\u001b[0m\u001b[0;34m\u001b[0m\u001b[0m\n\u001b[0m\u001b[1;32m      2\u001b[0m \u001b[0mdf_entity\u001b[0m\u001b[0;34m.\u001b[0m\u001b[0mhead\u001b[0m\u001b[0;34m(\u001b[0m\u001b[0;34m)\u001b[0m\u001b[0;34m\u001b[0m\u001b[0;34m\u001b[0m\u001b[0m\n",
      "\u001b[0;32m/lfs1/gaia/yixiangy/miniconda3/envs/py36/lib/python3.6/site-packages/pandas/io/pytables.py\u001b[0m in \u001b[0;36mread_hdf\u001b[0;34m(path_or_buf, key, mode, **kwargs)\u001b[0m\n\u001b[1;32m    369\u001b[0m         \u001b[0;32mif\u001b[0m \u001b[0;32mnot\u001b[0m \u001b[0mexists\u001b[0m\u001b[0;34m:\u001b[0m\u001b[0;34m\u001b[0m\u001b[0;34m\u001b[0m\u001b[0m\n\u001b[1;32m    370\u001b[0m             raise compat.FileNotFoundError(\n\u001b[0;32m--> 371\u001b[0;31m                 'File %s does not exist' % path_or_buf)\n\u001b[0m\u001b[1;32m    372\u001b[0m \u001b[0;34m\u001b[0m\u001b[0m\n\u001b[1;32m    373\u001b[0m         \u001b[0mstore\u001b[0m \u001b[0;34m=\u001b[0m \u001b[0mHDFStore\u001b[0m\u001b[0;34m(\u001b[0m\u001b[0mpath_or_buf\u001b[0m\u001b[0;34m,\u001b[0m \u001b[0mmode\u001b[0m\u001b[0;34m=\u001b[0m\u001b[0mmode\u001b[0m\u001b[0;34m,\u001b[0m \u001b[0;34m**\u001b[0m\u001b[0mkwargs\u001b[0m\u001b[0;34m)\u001b[0m\u001b[0;34m\u001b[0m\u001b[0;34m\u001b[0m\u001b[0m\n",
      "\u001b[0;31mFileNotFoundError\u001b[0m: File store_data/dryrun-3-GAIA_2_v1-ta1_entity_trans_all_001.h5 does not exist"
     ]
    }
   ],
   "source": [
    "df_entity = pd.read_hdf(input_df_path)\n",
    "df_entity.head()"
   ]
  },
  {
   "cell_type": "code",
   "execution_count": 442,
   "metadata": {},
   "outputs": [
    {
     "data": {
      "text/plain": [
       "(60388, 23)"
      ]
     },
     "execution_count": 442,
     "metadata": {},
     "output_type": "execute_result"
    }
   ],
   "source": [
    "df_entity.shape"
   ]
  },
  {
   "cell_type": "code",
   "execution_count": 443,
   "metadata": {},
   "outputs": [
    {
     "data": {
      "text/plain": [
       "Index(['e', 'type', 'name', 'source', 'targets', 'target_scores', 'fbid', 'fbid_score_avg', 'fbid_score_max', 'wikidata', 'wiki_label_en', 'wiki_label_ru', 'wiki_label_uk', 'wiki_alias_en', 'wiki_alias_ru', 'wiki_alias_uk', 'lang', 'label', 'transl_name', 'transl_label_ru', 'transl_label_uk', 'transl_alias_ru', 'transl_alias_uk'], dtype='object')"
      ]
     },
     "execution_count": 443,
     "metadata": {},
     "output_type": "execute_result"
    }
   ],
   "source": [
    "df_entity.columns"
   ]
  },
  {
   "cell_type": "code",
   "execution_count": 444,
   "metadata": {},
   "outputs": [
    {
     "name": "stdout",
     "output_type": "stream",
     "text": [
      "<class 'pandas.core.frame.DataFrame'>\n",
      "Int64Index: 60388 entries, 1 to 253587\n",
      "Data columns (total 23 columns):\n",
      "e                  60388 non-null object\n",
      "type               60388 non-null object\n",
      "name               44491 non-null object\n",
      "source             60388 non-null object\n",
      "targets            15226 non-null object\n",
      "target_scores      15226 non-null object\n",
      "fbid               24997 non-null object\n",
      "fbid_score_avg     24997 non-null object\n",
      "fbid_score_max     24997 non-null object\n",
      "wikidata           24997 non-null object\n",
      "wiki_label_en      24997 non-null object\n",
      "wiki_label_ru      24997 non-null object\n",
      "wiki_label_uk      24997 non-null object\n",
      "wiki_alias_en      24997 non-null object\n",
      "wiki_alias_ru      24997 non-null object\n",
      "wiki_alias_uk      24997 non-null object\n",
      "lang               59371 non-null object\n",
      "label              19480 non-null object\n",
      "transl_name        30920 non-null object\n",
      "transl_label_ru    24997 non-null object\n",
      "transl_label_uk    24997 non-null object\n",
      "transl_alias_ru    24997 non-null object\n",
      "transl_alias_uk    24997 non-null object\n",
      "dtypes: object(23)\n",
      "memory usage: 11.1+ MB\n"
     ]
    }
   ],
   "source": [
    "df_entity.info()"
   ]
  },
  {
   "cell_type": "code",
   "execution_count": 445,
   "metadata": {},
   "outputs": [
    {
     "data": {
      "text/plain": [
       "{'ldcOnt:COM.Document.Map',\n",
       " 'ldcOnt:CRM.BehaviorCrime',\n",
       " 'ldcOnt:CRM.FinancialCrime',\n",
       " 'ldcOnt:CRM.FinancialCrime.Extortion',\n",
       " 'ldcOnt:CRM.ViolentCrime',\n",
       " 'ldcOnt:CRM.ViolentCrime.Terrorism',\n",
       " 'ldcOnt:FAC',\n",
       " 'ldcOnt:FAC.Building',\n",
       " 'ldcOnt:FAC.Building.GovernmentBuilding',\n",
       " 'ldcOnt:FAC.Building.House',\n",
       " 'ldcOnt:FAC.Building.OfficeBuilding',\n",
       " 'ldcOnt:FAC.Building.School',\n",
       " 'ldcOnt:FAC.GeographicalArea',\n",
       " 'ldcOnt:FAC.GeographicalArea.Border',\n",
       " 'ldcOnt:FAC.Installation',\n",
       " 'ldcOnt:FAC.Installation.Airport',\n",
       " 'ldcOnt:FAC.Installation.MilitaryInstallation',\n",
       " 'ldcOnt:FAC.Installation.TrainStation',\n",
       " 'ldcOnt:FAC.Structure',\n",
       " 'ldcOnt:FAC.Structure.Barricade',\n",
       " 'ldcOnt:FAC.Way',\n",
       " 'ldcOnt:FAC.Way.Street',\n",
       " 'ldcOnt:GPE',\n",
       " 'ldcOnt:GPE.Country.Country',\n",
       " 'ldcOnt:GPE.OrganizationOfCountries.OrganizationOfCountries',\n",
       " 'ldcOnt:GPE.ProvinceState.ProvinceState',\n",
       " 'ldcOnt:GPE.UrbanArea',\n",
       " 'ldcOnt:GPE.UrbanArea.City',\n",
       " 'ldcOnt:GPE.UrbanArea.Village',\n",
       " 'ldcOnt:LOC',\n",
       " 'ldcOnt:LOC.GeographicPoint',\n",
       " 'ldcOnt:LOC.Land',\n",
       " 'ldcOnt:LOC.Land.Continent',\n",
       " 'ldcOnt:LOC.Position',\n",
       " 'ldcOnt:LOC.Position.AirSpace',\n",
       " 'ldcOnt:LOC.Position.Field',\n",
       " 'ldcOnt:LOC.Position.Neighborhood',\n",
       " 'ldcOnt:LOC.Position.Region',\n",
       " 'ldcOnt:MON',\n",
       " 'ldcOnt:ORG',\n",
       " 'ldcOnt:ORG.Association',\n",
       " 'ldcOnt:ORG.Association.Club',\n",
       " 'ldcOnt:ORG.Association.Team',\n",
       " 'ldcOnt:ORG.CommercialOrganization',\n",
       " 'ldcOnt:ORG.CommercialOrganization.BroadcastingCompany',\n",
       " 'ldcOnt:ORG.CommercialOrganization.Corporation',\n",
       " 'ldcOnt:ORG.CommercialOrganization.Manufacturer',\n",
       " 'ldcOnt:ORG.CommercialOrganization.NewsAgency',\n",
       " 'ldcOnt:ORG.Government',\n",
       " 'ldcOnt:ORG.Government.Agency',\n",
       " 'ldcOnt:ORG.Government.Council',\n",
       " 'ldcOnt:ORG.Government.LawEnforcementAgency',\n",
       " 'ldcOnt:ORG.Government.LegislativeBody',\n",
       " 'ldcOnt:ORG.Government.Railway',\n",
       " 'ldcOnt:ORG.International',\n",
       " 'ldcOnt:ORG.International.MonitoringGroup',\n",
       " 'ldcOnt:ORG.MilitaryOrganization',\n",
       " 'ldcOnt:ORG.MilitaryOrganization.GovernmentArmedForces',\n",
       " 'ldcOnt:ORG.MilitaryOrganization.Intelligence',\n",
       " 'ldcOnt:ORG.MilitaryOrganization.NonGovernmentMilitia',\n",
       " 'ldcOnt:ORG.PoliticalOrganization',\n",
       " 'ldcOnt:ORG.PoliticalOrganization.Court',\n",
       " 'ldcOnt:ORG.PoliticalOrganization.Party',\n",
       " 'ldcOnt:PER',\n",
       " 'ldcOnt:PER.Combatant',\n",
       " 'ldcOnt:PER.Combatant.Mercenary',\n",
       " 'ldcOnt:PER.Combatant.Sniper',\n",
       " 'ldcOnt:PER.Fan.SportsFan',\n",
       " 'ldcOnt:PER.MilitaryPersonnel',\n",
       " 'ldcOnt:PER.MilitaryPersonnel.MilitaryOfficer',\n",
       " 'ldcOnt:PER.Police',\n",
       " 'ldcOnt:PER.Politician',\n",
       " 'ldcOnt:PER.Politician.Governor',\n",
       " 'ldcOnt:PER.Politician.HeadOfGovernment',\n",
       " 'ldcOnt:PER.Politician.Mayor',\n",
       " 'ldcOnt:PER.ProfessionalPosition',\n",
       " 'ldcOnt:PER.ProfessionalPosition.Ambassador',\n",
       " 'ldcOnt:PER.ProfessionalPosition.Journalist',\n",
       " 'ldcOnt:PER.ProfessionalPosition.Minister',\n",
       " 'ldcOnt:PER.ProfessionalPosition.Paramedic',\n",
       " 'ldcOnt:PER.ProfessionalPosition.Scientist',\n",
       " 'ldcOnt:PER.ProfessionalPosition.Spokesperson',\n",
       " 'ldcOnt:PER.ProfessionalPosition.Spy',\n",
       " 'ldcOnt:PER.Protester',\n",
       " 'ldcOnt:TTL',\n",
       " 'ldcOnt:VAL',\n",
       " 'ldcOnt:VAL.Number.Number',\n",
       " 'ldcOnt:VEH',\n",
       " 'ldcOnt:VEH.Aircraft',\n",
       " 'ldcOnt:VEH.Aircraft.CargoAircraft',\n",
       " 'ldcOnt:VEH.Aircraft.Helicopter',\n",
       " 'ldcOnt:VEH.MilitaryVehicle',\n",
       " 'ldcOnt:VEH.MilitaryVehicle.Tank',\n",
       " 'ldcOnt:VEH.Rocket.Rocket',\n",
       " 'ldcOnt:VEH.Watercraft',\n",
       " 'ldcOnt:VEH.WheeledVehicle',\n",
       " 'ldcOnt:VEH.WheeledVehicle.Car',\n",
       " 'ldcOnt:VEH.WheeledVehicle.Truck',\n",
       " 'ldcOnt:WEA',\n",
       " 'ldcOnt:WEA.Bomb',\n",
       " 'ldcOnt:WEA.Bomb.MolotovCocktail',\n",
       " 'ldcOnt:WEA.Bullets.Ammunition',\n",
       " 'ldcOnt:WEA.Bullets.LiveRounds',\n",
       " 'ldcOnt:WEA.Club',\n",
       " 'ldcOnt:WEA.Gas',\n",
       " 'ldcOnt:WEA.Gas.TearGas',\n",
       " 'ldcOnt:WEA.Gun',\n",
       " 'ldcOnt:WEA.Gun.Artillery',\n",
       " 'ldcOnt:WEA.Gun.Firearm',\n",
       " 'ldcOnt:WEA.MissileSystem.Missile',\n",
       " 'ldcOnt:WEA.MissileSystem.MissileLauncher',\n",
       " 'ldcOnt:WEA.ThrownProjectile',\n",
       " 'ldcOnt:WEA.ThrownProjectile.Rock'}"
      ]
     },
     "execution_count": 445,
     "metadata": {},
     "output_type": "execute_result"
    }
   ],
   "source": [
    "all_types = set(df_entity['type'])\n",
    "all_types"
   ]
  },
  {
   "cell_type": "code",
   "execution_count": 446,
   "metadata": {},
   "outputs": [],
   "source": [
    "# df_entity.groupby('type').count().reset_index()"
   ]
  },
  {
   "cell_type": "code",
   "execution_count": 447,
   "metadata": {},
   "outputs": [],
   "source": [
    "# df_entity_general_types = df_entity[['e', 'type']]\n",
    "# df_entity_general_types['general_type'] = df_entity_general_types['type'].str.split('.', 1).str.get(0)\n",
    "# df_entity_general_types.groupby('general_type').count()"
   ]
  },
  {
   "cell_type": "code",
   "execution_count": 448,
   "metadata": {},
   "outputs": [
    {
     "data": {
      "text/plain": [
       "['ldcOnt:PER.ProfessionalPosition.Scientist',\n",
       " 'ldcOnt:PER.Combatant.Sniper',\n",
       " 'ldcOnt:ORG.Association',\n",
       " 'ldcOnt:ORG.MilitaryOrganization.GovernmentArmedForces',\n",
       " 'ldcOnt:ORG.Government.Railway',\n",
       " 'ldcOnt:ORG.Government.LegislativeBody',\n",
       " 'ldcOnt:PER.MilitaryPersonnel.MilitaryOfficer',\n",
       " 'ldcOnt:PER.ProfessionalPosition.Ambassador',\n",
       " 'ldcOnt:GPE.Country.Country',\n",
       " 'ldcOnt:PER.ProfessionalPosition.Spokesperson',\n",
       " 'ldcOnt:ORG.PoliticalOrganization.Party',\n",
       " 'ldcOnt:PER.Combatant.Mercenary',\n",
       " 'ldcOnt:LOC.Position.AirSpace',\n",
       " 'ldcOnt:PER.MilitaryPersonnel',\n",
       " 'ldcOnt:ORG.CommercialOrganization.BroadcastingCompany',\n",
       " 'ldcOnt:LOC.Position',\n",
       " 'ldcOnt:GPE.OrganizationOfCountries.OrganizationOfCountries',\n",
       " 'ldcOnt:GPE.ProvinceState.ProvinceState',\n",
       " 'ldcOnt:GPE.UrbanArea.City',\n",
       " 'ldcOnt:ORG.Government.LawEnforcementAgency',\n",
       " 'ldcOnt:PER.Politician.Governor',\n",
       " 'ldcOnt:PER.ProfessionalPosition',\n",
       " 'ldcOnt:LOC.Position.Field',\n",
       " 'ldcOnt:ORG.Association.Team',\n",
       " 'ldcOnt:ORG.International',\n",
       " 'ldcOnt:ORG.MilitaryOrganization.NonGovernmentMilitia',\n",
       " 'ldcOnt:ORG.PoliticalOrganization.Court',\n",
       " 'ldcOnt:LOC.Land',\n",
       " 'ldcOnt:GPE.UrbanArea',\n",
       " 'ldcOnt:LOC.Position.Region',\n",
       " 'ldcOnt:PER',\n",
       " 'ldcOnt:PER.ProfessionalPosition.Spy',\n",
       " 'ldcOnt:ORG',\n",
       " 'ldcOnt:PER.Politician.Mayor',\n",
       " 'ldcOnt:ORG.MilitaryOrganization.Intelligence',\n",
       " 'ldcOnt:ORG.CommercialOrganization',\n",
       " 'ldcOnt:ORG.Government.Council',\n",
       " 'ldcOnt:ORG.Association.Club',\n",
       " 'ldcOnt:ORG.CommercialOrganization.NewsAgency',\n",
       " 'ldcOnt:PER.ProfessionalPosition.Journalist',\n",
       " 'ldcOnt:PER.Protester',\n",
       " 'ldcOnt:ORG.CommercialOrganization.Corporation',\n",
       " 'ldcOnt:ORG.CommercialOrganization.Manufacturer',\n",
       " 'ldcOnt:PER.Combatant',\n",
       " 'ldcOnt:GPE',\n",
       " 'ldcOnt:ORG.Government',\n",
       " 'ldcOnt:GPE.UrbanArea.Village',\n",
       " 'ldcOnt:PER.ProfessionalPosition.Paramedic',\n",
       " 'ldcOnt:PER.Politician',\n",
       " 'ldcOnt:LOC.Position.Neighborhood',\n",
       " 'ldcOnt:LOC.GeographicPoint',\n",
       " 'ldcOnt:PER.Police',\n",
       " 'ldcOnt:ORG.Government.Agency',\n",
       " 'ldcOnt:ORG.PoliticalOrganization',\n",
       " 'ldcOnt:ORG.MilitaryOrganization',\n",
       " 'ldcOnt:PER.ProfessionalPosition.Minister',\n",
       " 'ldcOnt:LOC.Land.Continent',\n",
       " 'ldcOnt:PER.Fan.SportsFan',\n",
       " 'ldcOnt:ORG.International.MonitoringGroup',\n",
       " 'ldcOnt:LOC',\n",
       " 'ldcOnt:PER.Politician.HeadOfGovernment']"
      ]
     },
     "execution_count": 448,
     "metadata": {},
     "output_type": "execute_result"
    }
   ],
   "source": [
    "selected_types = filter(lambda x: x.startswith(('ldcOnt:GPE', 'ldcOnt:LOC', 'ldcOnt:ORG', 'ldcOnt:PER')), all_types)\n",
    "selected_types = list(selected_types)\n",
    "selected_types"
   ]
  },
  {
   "cell_type": "code",
   "execution_count": 449,
   "metadata": {},
   "outputs": [
    {
     "data": {
      "text/html": [
       "<div>\n",
       "<style scoped>\n",
       "    .dataframe tbody tr th:only-of-type {\n",
       "        vertical-align: middle;\n",
       "    }\n",
       "\n",
       "    .dataframe tbody tr th {\n",
       "        vertical-align: top;\n",
       "    }\n",
       "\n",
       "    .dataframe thead th {\n",
       "        text-align: right;\n",
       "    }\n",
       "</style>\n",
       "<table border=\"1\" class=\"dataframe\">\n",
       "  <thead>\n",
       "    <tr style=\"text-align: right;\">\n",
       "      <th></th>\n",
       "      <th>e</th>\n",
       "      <th>type</th>\n",
       "      <th>name</th>\n",
       "      <th>source</th>\n",
       "      <th>targets</th>\n",
       "      <th>target_scores</th>\n",
       "      <th>fbid</th>\n",
       "      <th>fbid_score_avg</th>\n",
       "      <th>fbid_score_max</th>\n",
       "      <th>wikidata</th>\n",
       "      <th>wiki_label_en</th>\n",
       "      <th>wiki_label_ru</th>\n",
       "      <th>wiki_label_uk</th>\n",
       "      <th>wiki_alias_en</th>\n",
       "      <th>wiki_alias_ru</th>\n",
       "      <th>wiki_alias_uk</th>\n",
       "      <th>lang</th>\n",
       "      <th>label</th>\n",
       "      <th>transl_name</th>\n",
       "      <th>transl_label_ru</th>\n",
       "      <th>transl_label_uk</th>\n",
       "      <th>transl_alias_ru</th>\n",
       "      <th>transl_alias_uk</th>\n",
       "    </tr>\n",
       "  </thead>\n",
       "  <tbody>\n",
       "    <tr>\n",
       "      <th>1</th>\n",
       "      <td>http://www.isi.edu/gaia/entities/20ed5fc6-502c-4a2b-85dc-6e4e5fbca1ab</td>\n",
       "      <td>ldcOnt:GPE.UrbanArea.City</td>\n",
       "      <td>(Хабаровск, Хабаровск, Хабаровск)</td>\n",
       "      <td>IC0015JFY</td>\n",
       "      <td>(LDC2019E43:2022890, LDC2019E43:2022888, LDC2019E43:6300934)</td>\n",
       "      <td>(0.9701, 0.024, 0.003)</td>\n",
       "      <td>(m.010f1kyh,)</td>\n",
       "      <td>(0.5627072627,)</td>\n",
       "      <td>(0.7758610249,)</td>\n",
       "      <td>(None,)</td>\n",
       "      <td>(None,)</td>\n",
       "      <td>(None,)</td>\n",
       "      <td>(None,)</td>\n",
       "      <td>(None,)</td>\n",
       "      <td>(None,)</td>\n",
       "      <td>(None,)</td>\n",
       "      <td>ru</td>\n",
       "      <td>((Khabarovsk ,),)</td>\n",
       "      <td>[None, None, None]</td>\n",
       "      <td>[None]</td>\n",
       "      <td>[None]</td>\n",
       "      <td>(None,)</td>\n",
       "      <td>(None,)</td>\n",
       "    </tr>\n",
       "    <tr>\n",
       "      <th>5</th>\n",
       "      <td>http://www.isi.edu/gaia/entities/4547c11a-b636-4732-94aa-40aec264a13b</td>\n",
       "      <td>ldcOnt:GPE.ProvinceState.ProvinceState</td>\n",
       "      <td>(Москву, Москву, Москву, Москвы, Москвы, Москвы)</td>\n",
       "      <td>IC0015JFY</td>\n",
       "      <td>(LDC2019E43:524894, LDC2019E43:524901, LDC2019E43:5601538)</td>\n",
       "      <td>(0.4948, 0.4948, 0.007644459)</td>\n",
       "      <td>(m.04swd,)</td>\n",
       "      <td>(0.7611546613,)</td>\n",
       "      <td>(1.0,)</td>\n",
       "      <td>(http://www.wikidata.org/entity/Q649,)</td>\n",
       "      <td>(Moscow,)</td>\n",
       "      <td>(Москва,)</td>\n",
       "      <td>(Москва,)</td>\n",
       "      <td>((Moskva, City of Moscow, Moscow, Russia, Moscow, Russian Federation, Moscow, Russian SFSR, Moscow, Soviet Union, Moscow, USSR, Moskva Federal City, Russia, Moskva, Russia, Москва),)</td>\n",
       "      <td>((Москва (город), Москва (Россия), Москва Златоглавая, Москва, Россия, Первопрестольная, Порт пяти морей, Третий Рим),)</td>\n",
       "      <td>((Москва (місто), Москва (Росія), Москва, Росія, Москва, РФ),)</td>\n",
       "      <td>ru</td>\n",
       "      <td>((Moscow , Moscow, ), (Moscow , Moscow ))</td>\n",
       "      <td>[moscow, moscow, moscow, moscow, moscow, moscow]</td>\n",
       "      <td>[moscow]</td>\n",
       "      <td>[moscow]</td>\n",
       "      <td>([moscow (city), Moscow, Russia), moscow gold-domed, Moscow, Russia, mother of god, port of the five seas, third rome],)</td>\n",
       "      <td>([moscow city, moscow (russia), Moscow, Russia, Moscow, Rf],)</td>\n",
       "    </tr>\n",
       "    <tr>\n",
       "      <th>11</th>\n",
       "      <td>http://www.isi.edu/gaia/entities/2e8e9dbe-07b5-44ae-92bd-82f36d673dab</td>\n",
       "      <td>ldcOnt:GPE.UrbanArea.City</td>\n",
       "      <td>(Севастополь, Севастополь, Севастополь)</td>\n",
       "      <td>IC0015JFY</td>\n",
       "      <td>(LDC2019E43:4926267, LDC2019E43:694422, LDC2019E43:694423)</td>\n",
       "      <td>(0.002142857, 0.4954, 0.4993)</td>\n",
       "      <td>(m.0dlvj, m.02q172s)</td>\n",
       "      <td>(0.6444659938, 0.2478182763)</td>\n",
       "      <td>(0.927274704, 0.2478182763)</td>\n",
       "      <td>(http://www.wikidata.org/entity/Q7525, http://www.wikidata.org/entity/Q177373)</td>\n",
       "      <td>(Sevastopol, FC Sevastopol)</td>\n",
       "      <td>(Севастополь, Севастополь)</td>\n",
       "      <td>(Севастополь, Севастополь)</td>\n",
       "      <td>((Aqyar, Sebastopol, Sevastopol', Sewastupolis, Sewastúpolis, Σεβαστούπολις, Ахтіар, Севастополь), ())</td>\n",
       "      <td>((Ахтиар,), ())</td>\n",
       "      <td>((), (ФК «Севасто́поль»,))</td>\n",
       "      <td>ru</td>\n",
       "      <td>((Sevastopol , Sevastopol ),)</td>\n",
       "      <td>[sevastopol, sevastopol, sevastopol]</td>\n",
       "      <td>[sevastopol, sevastopol]</td>\n",
       "      <td>[sevastopol, sevastopol]</td>\n",
       "      <td>([ahtiar], None)</td>\n",
       "      <td>(None, [None])</td>\n",
       "    </tr>\n",
       "    <tr>\n",
       "      <th>15</th>\n",
       "      <td>http://www.isi.edu/gaia/entities/90c6f6ec-b605-438f-a5cb-89ea35f628b9</td>\n",
       "      <td>ldcOnt:PER.Politician.HeadOfGovernment</td>\n",
       "      <td>(Путина,)</td>\n",
       "      <td>IC0015JFY</td>\n",
       "      <td>None</td>\n",
       "      <td>None</td>\n",
       "      <td>None</td>\n",
       "      <td>None</td>\n",
       "      <td>None</td>\n",
       "      <td>None</td>\n",
       "      <td>None</td>\n",
       "      <td>None</td>\n",
       "      <td>None</td>\n",
       "      <td>None</td>\n",
       "      <td>None</td>\n",
       "      <td>None</td>\n",
       "      <td>ru</td>\n",
       "      <td>((Putin. Now Putin ,),)</td>\n",
       "      <td>[putin's]</td>\n",
       "      <td>None</td>\n",
       "      <td>None</td>\n",
       "      <td>None</td>\n",
       "      <td>None</td>\n",
       "    </tr>\n",
       "    <tr>\n",
       "      <th>16</th>\n",
       "      <td>http://www.isi.edu/gaia/entities/b7291b40-d96b-4835-98eb-fba70e5d6251</td>\n",
       "      <td>ldcOnt:PER.Politician.HeadOfGovernment</td>\n",
       "      <td>(Виктором Федоровичем Януковичем,)</td>\n",
       "      <td>IC0015JFY</td>\n",
       "      <td>None</td>\n",
       "      <td>None</td>\n",
       "      <td>None</td>\n",
       "      <td>None</td>\n",
       "      <td>None</td>\n",
       "      <td>None</td>\n",
       "      <td>None</td>\n",
       "      <td>None</td>\n",
       "      <td>None</td>\n",
       "      <td>None</td>\n",
       "      <td>None</td>\n",
       "      <td>None</td>\n",
       "      <td>ru</td>\n",
       "      <td>None</td>\n",
       "      <td>[None]</td>\n",
       "      <td>None</td>\n",
       "      <td>None</td>\n",
       "      <td>None</td>\n",
       "      <td>None</td>\n",
       "    </tr>\n",
       "  </tbody>\n",
       "</table>\n",
       "</div>"
      ],
      "text/plain": [
       "                                                                        e                                    type                                              name     source                                                       targets                  target_scores                  fbid                fbid_score_avg               fbid_score_max                                                                        wikidata                wiki_label_en               wiki_label_ru               wiki_label_uk                                                                                                                                                                           wiki_alias_en                                                                                                            wiki_alias_ru                                                   wiki_alias_uk lang                                      label                                       transl_name  \\\n",
       "1   http://www.isi.edu/gaia/entities/20ed5fc6-502c-4a2b-85dc-6e4e5fbca1ab               ldcOnt:GPE.UrbanArea.City                 (Хабаровск, Хабаровск, Хабаровск)  IC0015JFY  (LDC2019E43:2022890, LDC2019E43:2022888, LDC2019E43:6300934)         (0.9701, 0.024, 0.003)         (m.010f1kyh,)               (0.5627072627,)              (0.7758610249,)                                                                         (None,)                      (None,)                     (None,)                     (None,)                                                                                                                                                                                 (None,)                                                                                                                  (None,)                                                         (None,)   ru                          ((Khabarovsk ,),)                                [None, None, None]   \n",
       "5   http://www.isi.edu/gaia/entities/4547c11a-b636-4732-94aa-40aec264a13b  ldcOnt:GPE.ProvinceState.ProvinceState  (Москву, Москву, Москву, Москвы, Москвы, Москвы)  IC0015JFY    (LDC2019E43:524894, LDC2019E43:524901, LDC2019E43:5601538)  (0.4948, 0.4948, 0.007644459)            (m.04swd,)               (0.7611546613,)                       (1.0,)                                          (http://www.wikidata.org/entity/Q649,)                    (Moscow,)                   (Москва,)                   (Москва,)  ((Moskva, City of Moscow, Moscow, Russia, Moscow, Russian Federation, Moscow, Russian SFSR, Moscow, Soviet Union, Moscow, USSR, Moskva Federal City, Russia, Moskva, Russia, Москва),)  ((Москва (город), Москва (Россия), Москва Златоглавая, Москва, Россия, Первопрестольная, Порт пяти морей, Третий Рим),)  ((Москва (місто), Москва (Росія), Москва, Росія, Москва, РФ),)   ru  ((Moscow , Moscow, ), (Moscow , Moscow ))  [moscow, moscow, moscow, moscow, moscow, moscow]   \n",
       "11  http://www.isi.edu/gaia/entities/2e8e9dbe-07b5-44ae-92bd-82f36d673dab               ldcOnt:GPE.UrbanArea.City           (Севастополь, Севастополь, Севастополь)  IC0015JFY    (LDC2019E43:4926267, LDC2019E43:694422, LDC2019E43:694423)  (0.002142857, 0.4954, 0.4993)  (m.0dlvj, m.02q172s)  (0.6444659938, 0.2478182763)  (0.927274704, 0.2478182763)  (http://www.wikidata.org/entity/Q7525, http://www.wikidata.org/entity/Q177373)  (Sevastopol, FC Sevastopol)  (Севастополь, Севастополь)  (Севастополь, Севастополь)                                                                                  ((Aqyar, Sebastopol, Sevastopol', Sewastupolis, Sewastúpolis, Σεβαστούπολις, Ахтіар, Севастополь), ())                                                                                                          ((Ахтиар,), ())                                      ((), (ФК «Севасто́поль»,))   ru              ((Sevastopol , Sevastopol ),)              [sevastopol, sevastopol, sevastopol]   \n",
       "15  http://www.isi.edu/gaia/entities/90c6f6ec-b605-438f-a5cb-89ea35f628b9  ldcOnt:PER.Politician.HeadOfGovernment                                         (Путина,)  IC0015JFY                                                          None                           None                  None                          None                         None                                                                            None                         None                        None                        None                                                                                                                                                                                    None                                                                                                                     None                                                            None   ru                    ((Putin. Now Putin ,),)                                         [putin's]   \n",
       "16  http://www.isi.edu/gaia/entities/b7291b40-d96b-4835-98eb-fba70e5d6251  ldcOnt:PER.Politician.HeadOfGovernment                (Виктором Федоровичем Януковичем,)  IC0015JFY                                                          None                           None                  None                          None                         None                                                                            None                         None                        None                        None                                                                                                                                                                                    None                                                                                                                     None                                                            None   ru                                       None                                            [None]   \n",
       "\n",
       "             transl_label_ru           transl_label_uk                                                                                                           transl_alias_ru                                                transl_alias_uk  \n",
       "1                     [None]                    [None]                                                                                                                   (None,)                                                        (None,)  \n",
       "5                   [moscow]                  [moscow]  ([moscow (city), Moscow, Russia), moscow gold-domed, Moscow, Russia, mother of god, port of the five seas, third rome],)  ([moscow city, moscow (russia), Moscow, Russia, Moscow, Rf],)  \n",
       "11  [sevastopol, sevastopol]  [sevastopol, sevastopol]                                                                                                          ([ahtiar], None)                                                 (None, [None])  \n",
       "15                      None                      None                                                                                                                      None                                                           None  \n",
       "16                      None                      None                                                                                                                      None                                                           None  "
      ]
     },
     "execution_count": 449,
     "metadata": {},
     "output_type": "execute_result"
    }
   ],
   "source": [
    "df_entity = df_entity.loc[df_entity['type'].isin(selected_types)]\n",
    "df_entity.head()"
   ]
  },
  {
   "cell_type": "markdown",
   "metadata": {},
   "source": [
    "## Dumping data for wikifier"
   ]
  },
  {
   "cell_type": "code",
   "execution_count": 450,
   "metadata": {},
   "outputs": [],
   "source": [
    "# # export all people names\n",
    "# df_entity_per = df_entity[df_entity['type'].str.startswith('ldcOnt:PER')]\n",
    "# df_entity_per.head()"
   ]
  },
  {
   "cell_type": "code",
   "execution_count": 451,
   "metadata": {},
   "outputs": [],
   "source": [
    "# df_entity_per.to_hdf('store_data/all_entity_per.h5', 'entity', mode='w', format='fixed')\n",
    "# df_entity_per.to_csv('store_data/all_entity_per.csv')"
   ]
  },
  {
   "cell_type": "code",
   "execution_count": 452,
   "metadata": {},
   "outputs": [],
   "source": [
    "# pd.read_hdf('store_data/all_entity_per.h5').head()"
   ]
  },
  {
   "cell_type": "code",
   "execution_count": 453,
   "metadata": {},
   "outputs": [],
   "source": [
    "# # export all org names\n",
    "# df_entity_org = df_entity[df_entity['type'].str.startswith('ldcOnt:ORG')]\n",
    "# df_entity_org.to_hdf('store_data/all_entity_org.h5', 'entity', mode='w', format='fixed')\n",
    "# df_entity_org.to_csv('store_data/all_entity_org.csv')"
   ]
  },
  {
   "cell_type": "code",
   "execution_count": 454,
   "metadata": {},
   "outputs": [],
   "source": [
    "# df_entity_org.head()"
   ]
  },
  {
   "cell_type": "markdown",
   "metadata": {},
   "source": [
    "## continue"
   ]
  },
  {
   "cell_type": "code",
   "execution_count": 455,
   "metadata": {},
   "outputs": [
    {
     "data": {
      "text/html": [
       "<div>\n",
       "<style scoped>\n",
       "    .dataframe tbody tr th:only-of-type {\n",
       "        vertical-align: middle;\n",
       "    }\n",
       "\n",
       "    .dataframe tbody tr th {\n",
       "        vertical-align: top;\n",
       "    }\n",
       "\n",
       "    .dataframe thead th {\n",
       "        text-align: right;\n",
       "    }\n",
       "</style>\n",
       "<table border=\"1\" class=\"dataframe\">\n",
       "  <thead>\n",
       "    <tr style=\"text-align: right;\">\n",
       "      <th></th>\n",
       "      <th>e</th>\n",
       "      <th>type</th>\n",
       "      <th>name</th>\n",
       "      <th>source</th>\n",
       "      <th>targets</th>\n",
       "      <th>target_scores</th>\n",
       "      <th>fbid</th>\n",
       "      <th>fbid_score_avg</th>\n",
       "      <th>fbid_score_max</th>\n",
       "      <th>wikidata</th>\n",
       "      <th>wiki_label_en</th>\n",
       "      <th>wiki_label_ru</th>\n",
       "      <th>wiki_label_uk</th>\n",
       "      <th>wiki_alias_en</th>\n",
       "      <th>wiki_alias_ru</th>\n",
       "      <th>wiki_alias_uk</th>\n",
       "      <th>lang</th>\n",
       "      <th>label</th>\n",
       "      <th>transl_name</th>\n",
       "      <th>transl_label_ru</th>\n",
       "      <th>transl_label_uk</th>\n",
       "      <th>transl_alias_ru</th>\n",
       "      <th>transl_alias_uk</th>\n",
       "    </tr>\n",
       "  </thead>\n",
       "  <tbody>\n",
       "    <tr>\n",
       "      <th>1</th>\n",
       "      <td>http://www.isi.edu/gaia/entities/20ed5fc6-502c-4a2b-85dc-6e4e5fbca1ab</td>\n",
       "      <td>ldcOnt:GPE.UrbanArea.City</td>\n",
       "      <td>(Хабаровск, Хабаровск, Хабаровск)</td>\n",
       "      <td>IC0015JFY</td>\n",
       "      <td>(LDC2019E43:2022890, LDC2019E43:2022888, LDC2019E43:6300934)</td>\n",
       "      <td>(0.9701, 0.024, 0.003)</td>\n",
       "      <td>(m.010f1kyh,)</td>\n",
       "      <td>(0.5627072627,)</td>\n",
       "      <td>(0.7758610249,)</td>\n",
       "      <td>(None,)</td>\n",
       "      <td>(None,)</td>\n",
       "      <td>(None,)</td>\n",
       "      <td>(None,)</td>\n",
       "      <td>(None,)</td>\n",
       "      <td>(None,)</td>\n",
       "      <td>(None,)</td>\n",
       "      <td>ru</td>\n",
       "      <td>((Khabarovsk ,),)</td>\n",
       "      <td>[None, None, None]</td>\n",
       "      <td>[None]</td>\n",
       "      <td>[None]</td>\n",
       "      <td>(None,)</td>\n",
       "      <td>(None,)</td>\n",
       "    </tr>\n",
       "    <tr>\n",
       "      <th>5</th>\n",
       "      <td>http://www.isi.edu/gaia/entities/4547c11a-b636-4732-94aa-40aec264a13b</td>\n",
       "      <td>ldcOnt:GPE.ProvinceState.ProvinceState</td>\n",
       "      <td>(Москву, Москву, Москву, Москвы, Москвы, Москвы)</td>\n",
       "      <td>IC0015JFY</td>\n",
       "      <td>(LDC2019E43:524894, LDC2019E43:524901, LDC2019E43:5601538)</td>\n",
       "      <td>(0.4948, 0.4948, 0.007644459)</td>\n",
       "      <td>(m.04swd,)</td>\n",
       "      <td>(0.7611546613,)</td>\n",
       "      <td>(1.0,)</td>\n",
       "      <td>(http://www.wikidata.org/entity/Q649,)</td>\n",
       "      <td>(Moscow,)</td>\n",
       "      <td>(Москва,)</td>\n",
       "      <td>(Москва,)</td>\n",
       "      <td>((Moskva, City of Moscow, Moscow, Russia, Moscow, Russian Federation, Moscow, Russian SFSR, Moscow, Soviet Union, Moscow, USSR, Moskva Federal City, Russia, Moskva, Russia, Москва),)</td>\n",
       "      <td>((Москва (город), Москва (Россия), Москва Златоглавая, Москва, Россия, Первопрестольная, Порт пяти морей, Третий Рим),)</td>\n",
       "      <td>((Москва (місто), Москва (Росія), Москва, Росія, Москва, РФ),)</td>\n",
       "      <td>ru</td>\n",
       "      <td>((Moscow , Moscow, ), (Moscow , Moscow ))</td>\n",
       "      <td>[moscow, moscow, moscow, moscow, moscow, moscow]</td>\n",
       "      <td>[moscow]</td>\n",
       "      <td>[moscow]</td>\n",
       "      <td>([moscow (city), Moscow, Russia), moscow gold-domed, Moscow, Russia, mother of god, port of the five seas, third rome],)</td>\n",
       "      <td>([moscow city, moscow (russia), Moscow, Russia, Moscow, Rf],)</td>\n",
       "    </tr>\n",
       "    <tr>\n",
       "      <th>11</th>\n",
       "      <td>http://www.isi.edu/gaia/entities/2e8e9dbe-07b5-44ae-92bd-82f36d673dab</td>\n",
       "      <td>ldcOnt:GPE.UrbanArea.City</td>\n",
       "      <td>(Севастополь, Севастополь, Севастополь)</td>\n",
       "      <td>IC0015JFY</td>\n",
       "      <td>(LDC2019E43:4926267, LDC2019E43:694422, LDC2019E43:694423)</td>\n",
       "      <td>(0.002142857, 0.4954, 0.4993)</td>\n",
       "      <td>(m.0dlvj, m.02q172s)</td>\n",
       "      <td>(0.6444659938, 0.2478182763)</td>\n",
       "      <td>(0.927274704, 0.2478182763)</td>\n",
       "      <td>(http://www.wikidata.org/entity/Q7525, http://www.wikidata.org/entity/Q177373)</td>\n",
       "      <td>(Sevastopol, FC Sevastopol)</td>\n",
       "      <td>(Севастополь, Севастополь)</td>\n",
       "      <td>(Севастополь, Севастополь)</td>\n",
       "      <td>((Aqyar, Sebastopol, Sevastopol', Sewastupolis, Sewastúpolis, Σεβαστούπολις, Ахтіар, Севастополь), ())</td>\n",
       "      <td>((Ахтиар,), ())</td>\n",
       "      <td>((), (ФК «Севасто́поль»,))</td>\n",
       "      <td>ru</td>\n",
       "      <td>((Sevastopol , Sevastopol ),)</td>\n",
       "      <td>[sevastopol, sevastopol, sevastopol]</td>\n",
       "      <td>[sevastopol, sevastopol]</td>\n",
       "      <td>[sevastopol, sevastopol]</td>\n",
       "      <td>([ahtiar], None)</td>\n",
       "      <td>(None, [None])</td>\n",
       "    </tr>\n",
       "    <tr>\n",
       "      <th>15</th>\n",
       "      <td>http://www.isi.edu/gaia/entities/90c6f6ec-b605-438f-a5cb-89ea35f628b9</td>\n",
       "      <td>ldcOnt:PER.Politician.HeadOfGovernment</td>\n",
       "      <td>(Путина,)</td>\n",
       "      <td>IC0015JFY</td>\n",
       "      <td>None</td>\n",
       "      <td>None</td>\n",
       "      <td>None</td>\n",
       "      <td>None</td>\n",
       "      <td>None</td>\n",
       "      <td>None</td>\n",
       "      <td>None</td>\n",
       "      <td>None</td>\n",
       "      <td>None</td>\n",
       "      <td>None</td>\n",
       "      <td>None</td>\n",
       "      <td>None</td>\n",
       "      <td>ru</td>\n",
       "      <td>((Putin. Now Putin ,),)</td>\n",
       "      <td>[putin's]</td>\n",
       "      <td>None</td>\n",
       "      <td>None</td>\n",
       "      <td>None</td>\n",
       "      <td>None</td>\n",
       "    </tr>\n",
       "    <tr>\n",
       "      <th>16</th>\n",
       "      <td>http://www.isi.edu/gaia/entities/b7291b40-d96b-4835-98eb-fba70e5d6251</td>\n",
       "      <td>ldcOnt:PER.Politician.HeadOfGovernment</td>\n",
       "      <td>(Виктором Федоровичем Януковичем,)</td>\n",
       "      <td>IC0015JFY</td>\n",
       "      <td>None</td>\n",
       "      <td>None</td>\n",
       "      <td>None</td>\n",
       "      <td>None</td>\n",
       "      <td>None</td>\n",
       "      <td>None</td>\n",
       "      <td>None</td>\n",
       "      <td>None</td>\n",
       "      <td>None</td>\n",
       "      <td>None</td>\n",
       "      <td>None</td>\n",
       "      <td>None</td>\n",
       "      <td>ru</td>\n",
       "      <td>None</td>\n",
       "      <td>[None]</td>\n",
       "      <td>None</td>\n",
       "      <td>None</td>\n",
       "      <td>None</td>\n",
       "      <td>None</td>\n",
       "    </tr>\n",
       "  </tbody>\n",
       "</table>\n",
       "</div>"
      ],
      "text/plain": [
       "                                                                        e                                    type                                              name     source                                                       targets                  target_scores                  fbid                fbid_score_avg               fbid_score_max                                                                        wikidata                wiki_label_en               wiki_label_ru               wiki_label_uk                                                                                                                                                                           wiki_alias_en                                                                                                            wiki_alias_ru                                                   wiki_alias_uk lang                                      label                                       transl_name  \\\n",
       "1   http://www.isi.edu/gaia/entities/20ed5fc6-502c-4a2b-85dc-6e4e5fbca1ab               ldcOnt:GPE.UrbanArea.City                 (Хабаровск, Хабаровск, Хабаровск)  IC0015JFY  (LDC2019E43:2022890, LDC2019E43:2022888, LDC2019E43:6300934)         (0.9701, 0.024, 0.003)         (m.010f1kyh,)               (0.5627072627,)              (0.7758610249,)                                                                         (None,)                      (None,)                     (None,)                     (None,)                                                                                                                                                                                 (None,)                                                                                                                  (None,)                                                         (None,)   ru                          ((Khabarovsk ,),)                                [None, None, None]   \n",
       "5   http://www.isi.edu/gaia/entities/4547c11a-b636-4732-94aa-40aec264a13b  ldcOnt:GPE.ProvinceState.ProvinceState  (Москву, Москву, Москву, Москвы, Москвы, Москвы)  IC0015JFY    (LDC2019E43:524894, LDC2019E43:524901, LDC2019E43:5601538)  (0.4948, 0.4948, 0.007644459)            (m.04swd,)               (0.7611546613,)                       (1.0,)                                          (http://www.wikidata.org/entity/Q649,)                    (Moscow,)                   (Москва,)                   (Москва,)  ((Moskva, City of Moscow, Moscow, Russia, Moscow, Russian Federation, Moscow, Russian SFSR, Moscow, Soviet Union, Moscow, USSR, Moskva Federal City, Russia, Moskva, Russia, Москва),)  ((Москва (город), Москва (Россия), Москва Златоглавая, Москва, Россия, Первопрестольная, Порт пяти морей, Третий Рим),)  ((Москва (місто), Москва (Росія), Москва, Росія, Москва, РФ),)   ru  ((Moscow , Moscow, ), (Moscow , Moscow ))  [moscow, moscow, moscow, moscow, moscow, moscow]   \n",
       "11  http://www.isi.edu/gaia/entities/2e8e9dbe-07b5-44ae-92bd-82f36d673dab               ldcOnt:GPE.UrbanArea.City           (Севастополь, Севастополь, Севастополь)  IC0015JFY    (LDC2019E43:4926267, LDC2019E43:694422, LDC2019E43:694423)  (0.002142857, 0.4954, 0.4993)  (m.0dlvj, m.02q172s)  (0.6444659938, 0.2478182763)  (0.927274704, 0.2478182763)  (http://www.wikidata.org/entity/Q7525, http://www.wikidata.org/entity/Q177373)  (Sevastopol, FC Sevastopol)  (Севастополь, Севастополь)  (Севастополь, Севастополь)                                                                                  ((Aqyar, Sebastopol, Sevastopol', Sewastupolis, Sewastúpolis, Σεβαστούπολις, Ахтіар, Севастополь), ())                                                                                                          ((Ахтиар,), ())                                      ((), (ФК «Севасто́поль»,))   ru              ((Sevastopol , Sevastopol ),)              [sevastopol, sevastopol, sevastopol]   \n",
       "15  http://www.isi.edu/gaia/entities/90c6f6ec-b605-438f-a5cb-89ea35f628b9  ldcOnt:PER.Politician.HeadOfGovernment                                         (Путина,)  IC0015JFY                                                          None                           None                  None                          None                         None                                                                            None                         None                        None                        None                                                                                                                                                                                    None                                                                                                                     None                                                            None   ru                    ((Putin. Now Putin ,),)                                         [putin's]   \n",
       "16  http://www.isi.edu/gaia/entities/b7291b40-d96b-4835-98eb-fba70e5d6251  ldcOnt:PER.Politician.HeadOfGovernment                (Виктором Федоровичем Януковичем,)  IC0015JFY                                                          None                           None                  None                          None                         None                                                                            None                         None                        None                        None                                                                                                                                                                                    None                                                                                                                     None                                                            None   ru                                       None                                            [None]   \n",
       "\n",
       "             transl_label_ru           transl_label_uk                                                                                                           transl_alias_ru                                                transl_alias_uk  \n",
       "1                     [None]                    [None]                                                                                                                   (None,)                                                        (None,)  \n",
       "5                   [moscow]                  [moscow]  ([moscow (city), Moscow, Russia), moscow gold-domed, Moscow, Russia, mother of god, port of the five seas, third rome],)  ([moscow city, moscow (russia), Moscow, Russia, Moscow, Rf],)  \n",
       "11  [sevastopol, sevastopol]  [sevastopol, sevastopol]                                                                                                          ([ahtiar], None)                                                 (None, [None])  \n",
       "15                      None                      None                                                                                                                      None                                                           None  \n",
       "16                      None                      None                                                                                                                      None                                                           None  "
      ]
     },
     "execution_count": 455,
     "metadata": {},
     "output_type": "execute_result"
    }
   ],
   "source": [
    "# remove non-name entities\n",
    "df_entity = df_entity[df_entity['name'].notnull()]\n",
    "df_entity.head()"
   ]
  },
  {
   "cell_type": "code",
   "execution_count": 456,
   "metadata": {},
   "outputs": [
    {
     "data": {
      "text/plain": [
       "(40637, 23)"
      ]
     },
     "execution_count": 456,
     "metadata": {},
     "output_type": "execute_result"
    }
   ],
   "source": [
    "df_entity.shape"
   ]
  },
  {
   "cell_type": "code",
   "execution_count": 457,
   "metadata": {},
   "outputs": [
    {
     "name": "stdout",
     "output_type": "stream",
     "text": [
      "Valid\n"
     ]
    }
   ],
   "source": [
    "# validate related df columns have same dimension\n",
    "for r in df_entity.iterrows():\n",
    "    r = r[1]\n",
    "    if r['targets'] and len(r['targets']) != len(r['target_scores']):\n",
    "        print('Invalid target_scores', r['e'])\n",
    "        break\n",
    "        \n",
    "    if r['fbid']:\n",
    "        if len(r['fbid']) != len(r['fbid_score_avg']) or len(r['fbid']) != len(r['fbid_score_max']):\n",
    "            print('Invalid fbid_score_avg or fbid_score_max', r['e'])\n",
    "            break\n",
    "        if r['wikidata'] and len(r['fbid']) != len(r['wikidata']):\n",
    "            print('Invalid wikidata', r['e'])\n",
    "            break\n",
    "        if r['wiki_label_en'] and len(r['fbid_score_avg']) != len(r['wiki_label_en']):\n",
    "            print('Invalid wiki_label_en', r['e'])\n",
    "            break\n",
    "        if r['wiki_label_ru'] and len(r['fbid_score_avg']) != len(r['wiki_label_ru']):\n",
    "            print('Invalid wiki_label_ru', r['e'])\n",
    "            break\n",
    "        if r['wiki_label_uk'] and len(r['fbid_score_avg']) != len(r['wiki_label_uk']):\n",
    "            print('Invalid wiki_label_uk', r['e'])\n",
    "            break\n",
    "        if r['transl_label_ru'] and len(r['fbid_score_avg']) != len(r['transl_label_ru']):\n",
    "            print('Invalid transl_label_ru', r['e'])\n",
    "            break\n",
    "        if r['transl_label_uk'] and len(r['fbid_score_avg']) != len(r['transl_label_uk']):\n",
    "            print('Invalid transl_label_uk', r['e'])\n",
    "            break\n",
    "else:\n",
    "    print('Valid')"
   ]
  },
  {
   "cell_type": "code",
   "execution_count": 13,
   "metadata": {},
   "outputs": [],
   "source": [
    "from collections import defaultdict\n",
    "kb_names = defaultdict(lambda: {'type': None, 'names': []})\n",
    "\n",
    "# entities\n",
    "with open(os.path.join(kg_tab_dir_path, 'entities.tab')) as f:\n",
    "    for idx, line in enumerate(f):\n",
    "        if idx == 0:\n",
    "            continue\n",
    "        line = line.strip().split('\\t')\n",
    "        type_, id_, name1 = line[1], line[2], line[3]\n",
    "        kb_names[id_]['type'] = type_\n",
    "        kb_names[id_]['names'].append(name1)\n",
    "        if len(line) >= 5:\n",
    "            name2 = line[4]\n",
    "            kb_names[id_]['names'].append(name2)\n",
    "    \n",
    "# alternative names\n",
    "with open(os.path.join(kg_tab_dir_path, 'alternate_names.tab')) as f:\n",
    "    for idx, line in enumerate(f):\n",
    "        if idx == 0:\n",
    "            continue\n",
    "        line = line.strip().split('\\t')\n",
    "        id_, name_ = line[0], line[1]\n",
    "        kb_names[id_]['names'].append(name_)"
   ]
  },
  {
   "cell_type": "code",
   "execution_count": 459,
   "metadata": {},
   "outputs": [
    {
     "data": {
      "text/plain": [
       "10215675"
      ]
     },
     "execution_count": 459,
     "metadata": {},
     "output_type": "execute_result"
    }
   ],
   "source": [
    "len(kb_names)"
   ]
  },
  {
   "cell_type": "code",
   "execution_count": 460,
   "metadata": {},
   "outputs": [
    {
     "name": "stdout",
     "output_type": "stream",
     "text": [
      "2986043 {'type': 'LOC', 'names': ['Pic de Font Blanca', 'Pic de Font Blanca', 'Pic de Font Blanca', 'Pic du Port']}\n",
      "2993838 {'type': 'LOC', 'names': ['Pic de Mil-Menut', 'Pic de Mil-Menut', 'Pic de Mil-Menut']}\n",
      "2994701 {'type': 'LOC', 'names': ['Roc Mélé', 'Roc Mele', 'Roc Mele', 'Roc Meler', 'Roc Mélé']}\n",
      "3007683 {'type': 'LOC', 'names': ['Pic des Langounelles', 'Pic des Langounelles', 'Pic des Langounelles']}\n",
      "3017832 {'type': 'LOC', 'names': ['Pic de les Abelletes', 'Pic de les Abelletes', 'Pic de la Font-Negre', 'Pic de la Font-Nègre', 'Pic de les Abelletes']}\n",
      "3017833 {'type': 'LOC', 'names': ['Estany de les Abelletes', 'Estany de les Abelletes', 'Estany de les Abelletes', 'Etang de Font-Negre', 'Étang de Font-Nègre']}\n",
      "3023203 {'type': 'LOC', 'names': ['Port Vieux de la Coume d’Ose', \"Port Vieux de la Coume d'Ose\", \"Port Vieux de Coume d'Ose\", 'Port Vieux de Coume d’Ose', \"Port Vieux de la Coume d'Ose\", 'Port Vieux de la Coume d’Ose']}\n",
      "3029315 {'type': 'LOC', 'names': ['Port de la Cabanette', 'Port de la Cabanette', 'Port de la Cabanette', 'Porteille de la Cabanette']}\n",
      "3034945 {'type': 'LOC', 'names': ['Port Dret', 'Port Dret', 'Port Dret', 'Port de Bareites', 'Port de las Bareytes', 'Port des Bareytes']}\n",
      "3038814 {'type': 'LOC', 'names': ['Costa de Xurius', 'Costa de Xurius']}\n"
     ]
    }
   ],
   "source": [
    "# samples of kb names\n",
    "for i, (k, v) in enumerate(kb_names.items()):\n",
    "    if i >= 10:\n",
    "        break\n",
    "    print(k, v)"
   ]
  },
  {
   "cell_type": "code",
   "execution_count": 461,
   "metadata": {},
   "outputs": [],
   "source": [
    "# detect if all target ids appear in KB\n",
    "wild_ids = set([])\n",
    "for _, targets in df_entity['targets'].iteritems():\n",
    "    if targets:\n",
    "        for t in targets:\n",
    "            t_ = t.split(':')[1]\n",
    "            if t_ not in kb_names:\n",
    "                wild_ids.add(t)\n",
    "for i, id_ in enumerate(wild_ids):\n",
    "    if i >= 10:\n",
    "        break\n",
    "    print(id_)"
   ]
  },
  {
   "cell_type": "markdown",
   "metadata": {},
   "source": [
    "# Create RLTK components"
   ]
  },
  {
   "cell_type": "code",
   "execution_count": 462,
   "metadata": {},
   "outputs": [],
   "source": [
    "# df_entity.head()"
   ]
  },
  {
   "cell_type": "code",
   "execution_count": 463,
   "metadata": {},
   "outputs": [],
   "source": [
    "def flatten(list_, remove_none=True):\n",
    "    if isinstance(list_, (list, tuple)):\n",
    "        ret = []\n",
    "        for l in list_:\n",
    "            for n in flatten(l):\n",
    "                ret.append(n)\n",
    "        return ret\n",
    "    else:\n",
    "        if remove_none and not list_:\n",
    "            return []\n",
    "        return [list_]\n",
    "\n",
    "# flatten([1,2,3,4, [2,2,4],[13,[2,3,2]]])"
   ]
  },
  {
   "cell_type": "code",
   "execution_count": 464,
   "metadata": {},
   "outputs": [],
   "source": [
    "from operator import itemgetter\n",
    "\n",
    "def top_score_indices(list_, num):\n",
    "    return sorted(range(len(list_)), key=lambda i: list_[i])[-num:]\n",
    "\n",
    "@rltk.set_id('e')\n",
    "class GaiaRecord(rltk.AutoGeneratedRecord):\n",
    "    \n",
    "    @rltk.cached_property\n",
    "    def augmented_names(self):\n",
    "        ret = []\n",
    "        targets = self.raw_object['targets']\n",
    "        if targets:\n",
    "            for t in targets:\n",
    "                kb_prefix, t = t.split(':')\n",
    "                if kb_prefix != 'LDC2019E43':\n",
    "                    ret.append([])\n",
    "                    continue\n",
    "                    \n",
    "                names = kb_names.get(t)\n",
    "                if names:\n",
    "                    ret.append(names['names'])\n",
    "                else:\n",
    "                    ret.append([])\n",
    "            return ret\n",
    "        \n",
    "    @rltk.cached_property\n",
    "    def selected_wikidata(self):\n",
    "        if self.fbid_score_avg:\n",
    "            selected_indice = top_score_indices(self.fbid_score_avg, 1)\n",
    "            return flatten(itemgetter(*selected_indice)(self.wikidata))\n",
    "        \n",
    "    @rltk.cached_property\n",
    "    def selected_fbid(self):\n",
    "        if self.fbid_score_avg:\n",
    "            selected_indice = top_score_indices(self.fbid_score_avg, 1)\n",
    "            return flatten(itemgetter(*selected_indice)(self.fbid))\n",
    "    \n",
    "    @rltk.cached_property\n",
    "    def selected_targets(self):\n",
    "        if self.target_scores:\n",
    "            selected_indice = top_score_indices(self.target_scores, 1)\n",
    "            return flatten(itemgetter(*selected_indice)(self.targets))\n",
    "        \n",
    "    \n",
    "    @rltk.cached_property\n",
    "    def selected_wikidata_label_en(self):\n",
    "        if self.fbid_score_avg:\n",
    "            selected_indice = top_score_indices(self.fbid_score_avg, 1)\n",
    "        \n",
    "            # wikidata labels and translation (based on freebase)\n",
    "            if self.wiki_label_en:\n",
    "                return flatten(itemgetter(*selected_indice)(self.wiki_label_en))\n",
    "    \n",
    "#     @property\n",
    "    @rltk.cached_property\n",
    "    def concatenated_labels(self):\n",
    "        ret = []\n",
    "        \n",
    "        # name and translation\n",
    "        if self.name:\n",
    "            ret += self.name\n",
    "        if self.transl_name:\n",
    "            ret += self.transl_name\n",
    "        \n",
    "        # target labels\n",
    "        if self.target_scores:\n",
    "            selected_indice = top_score_indices(self.target_scores, 1)\n",
    "            ret += flatten(itemgetter(*selected_indice)(self.augmented_names))\n",
    "        \n",
    "        if self.fbid_score_avg:\n",
    "            selected_indice = top_score_indices(self.fbid_score_avg, 1)\n",
    "        \n",
    "            # wikidata labels and translation (based on freebase)\n",
    "            if self.wiki_label_en:\n",
    "                ret += flatten(itemgetter(*selected_indice)(self.wiki_label_en))\n",
    "            if self.wiki_label_ru:\n",
    "                ret += flatten(itemgetter(*selected_indice)(self.wiki_label_ru))\n",
    "            if self.wiki_label_uk:\n",
    "                ret += flatten(itemgetter(*selected_indice)(self.wiki_label_uk))\n",
    "            if self.transl_label_ru:\n",
    "                ret += flatten(itemgetter(*selected_indice)(self.transl_label_ru))\n",
    "            if self.transl_label_uk:\n",
    "                ret += flatten(itemgetter(*selected_indice)(self.transl_label_uk))\n",
    "\n",
    "            # wikidata alias and translation\n",
    "            if self.wiki_label_en:\n",
    "                ret += flatten(itemgetter(*selected_indice)(self.wiki_label_en))\n",
    "            if self.wiki_alias_ru:\n",
    "                ret += flatten(itemgetter(*selected_indice)(self.wiki_alias_ru))\n",
    "            if self.wiki_alias_uk:\n",
    "                ret += flatten(itemgetter(*selected_indice)(self.wiki_alias_uk))\n",
    "            if self.transl_alias_ru:\n",
    "                ret += flatten(itemgetter(*selected_indice)(self.transl_alias_ru))\n",
    "            if self.transl_alias_uk:\n",
    "                ret += flatten(itemgetter(*selected_indice)(self.transl_alias_uk))\n",
    "        \n",
    "        return set(ret)\n",
    "        \n",
    "ds = rltk.Dataset(reader=rltk.DataFrameReader(df_entity), record_class=GaiaRecord)"
   ]
  },
  {
   "cell_type": "code",
   "execution_count": 465,
   "metadata": {},
   "outputs": [
    {
     "name": "stdout",
     "output_type": "stream",
     "text": [
      "http://www.isi.edu/gaia/entities/20ed5fc6-502c-4a2b-85dc-6e4e5fbca1ab ('Хабаровск', 'Хабаровск', 'Хабаровск') ('LDC2019E43:2022890', 'LDC2019E43:2022888', 'LDC2019E43:6300934') ('m.010f1kyh',) [] (None,) (None,) ['m.010f1kyh'] ['LDC2019E43:2022890'] {'KHV', 'Khabàrovsk', 'Chabarofsk', 'Champarofsk', \"Khabarovs'k\", 'Горад Хабараўск', 'Khbarovsk', 'habarofusuku', '伯力', 'ہابروسک', 'خابارووسک', 'Chabarovsk', 'ハバロフスク', 'khabarovska', 'חברובסק', 'خاباروفسك', 'Χαμπάροφσκ', 'hbrwbsq', 'खबारोव्स्क', 'Habarovsk', 'Khabarovskaj', None, 'خاباروفسک', 'Chabarowsk', 'ख़ाबारोव्स्क', 'khabarwwsk', 'bo li', 'Khabarovsk', 'Habarovska', 'Хабаровськ', 'Chabarovskas', 'Ĥabarovsk', 'Khabarovka', 'khabarwfsk', 'habalobseukeu', '하바롭스크', 'Хабаровск', 'Хабаровскай', 'Jabárovsk', 'Խաբարովսկ', 'Jabarovsk', 'Xabarovsk', 'Habarovszk', 'Gorad Khabarausk'}\n",
      "http://www.isi.edu/gaia/entities/4547c11a-b636-4732-94aa-40aec264a13b ('Москву', 'Москву', 'Москву', 'Москвы', 'Москвы', 'Москвы') ('LDC2019E43:524894', 'LDC2019E43:524901', 'LDC2019E43:5601538') ('m.04swd',) ['http://www.wikidata.org/entity/Q649'] ('Moscow',) (('Moskva', 'City of Moscow', 'Moscow, Russia', 'Moscow, Russian Federation', 'Moscow, Russian SFSR', 'Moscow, Soviet Union', 'Moscow, USSR', 'Moskva Federal City, Russia', 'Moskva, Russia', 'Москва'),) ['m.04swd'] ['LDC2019E43:524901'] {'MOW', 'Matxcơva', 'Москва (Росія)', 'Москва, РФ', 'Moscú', 'Moscu', 'Moscou', 'Moskowa', 'moscow', 'Москва (город)', 'Moscow', 'Moskokh', '모스크바', 'مسکو', 'ሞስኮ', 'Москва, Россия', 'Маскав', 'Gorad Maskva', 'masko', 'Мәскәү', 'موسكۋا', 'Москва', 'Moscovo', 'Maskva', 'Musko', 'Maeskuy', 'mx s ko', 'Москъва', 'mo si ke', 'Порт пяти морей', 'Moscha', 'Mat-xco-va', 'Moskou', 'Мæскуы', 'Mosk\"va', 'موسكو', 'Moscua', 'mskw', 'მოსკოვი', 'moscow gold-domed', 'モスクワ', 'Москох', 'mosukuwa', 'Москвы', 'Maskav', 'Москва Златоглавая', 'mosko', 'Moscow, Russia', 'Муско', 'Москова', 'Moscow, Rf', 'Moszkva', 'Moscow, Russia)', 'Москва, Росія', 'mwskva', 'Moskvo', 'Moskow', 'Maskava', 'Moscova', 'moscow city', 'Moscoƿ', 'Третий Рим', 'mwsqbh', 'மாஸ்கோ', 'Moska', 'Muskav', 'מאָסקװע', 'Mòskwa', 'Moscó', 'ماسکو', 'Mosca', 'མོ་སི་ཁོ།', 'Moskuas', 'Москву', 'Moscòu', 'Moskovu', 'Первопрестольная', 'moscow (city)', 'Moskova', 'Mosku', 'Matxcova', 'maskw', 'Москва (місто)', '莫斯科', 'Moskov', 'मास्को', 'Горад Масква', 'Москва (Россия)', 'Moskwa', 'Мускав', 'Mosco', 'Moscù', 'moscow (russia)', 'Moskau', 'ܡܘܣܩܒܐ', 'Məskəү', 'มอสโก', 'moseukeuba', 'Mát-xcơ-va', 'port of the five seas', 'third rome', 'מוסקבה', 'מאסקווע', 'mother of god', 'Moscfa', 'Մոսկվա', 'mwskw', 'मॉस्को', 'মস্কো', 'Moskva', 'Μόσχα', 'Mosko'}\n",
      "http://www.isi.edu/gaia/entities/2e8e9dbe-07b5-44ae-92bd-82f36d673dab ('Севастополь', 'Севастополь', 'Севастополь') ('LDC2019E43:4926267', 'LDC2019E43:694422', 'LDC2019E43:694423') ('m.0dlvj', 'm.02q172s') ['http://www.wikidata.org/entity/Q7525'] ('Sevastopol', 'FC Sevastopol') (('Aqyar', 'Sebastopol', \"Sevastopol'\", 'Sewastupolis', 'Sewastúpolis', 'Σεβαστούπολις', 'Ахтіар', 'Севастополь'), ()) ['m.0dlvj'] ['LDC2019E43:694423'] {'Aqyar', 'Sevastopoľ', 'Akyar', 'sevhastopola', 'sevu~asutopori', 'Ахтиар', 'Акъяр', 'Sevastopol', \"Sevastopal'\", 'syfastwbwl', 'סבסטופול', 'sevastopol', 'swastwpwl', \"Sevastopol'\", 'sebaseutopol', 'ahtiar', 'Севастопол', 'sbstwpwl', 'Sevastoupoli', 'सेव्हास्तोपोल', 'Sébastopol', 'Σεβαστούπολη', 'Sevastopolo', 'Севастополь', 'سواستوپول', 'Sebastopolis', 'Sebastopoli', 'Sebastopolo', 'Sevastopolj', 'sai wa si tuo bo er', 'سيفاستوبول', 'სევასტოპოლი', 'Sebastopol', 'Sivastopol', '세바스토폴', 'Akujar', 'セヴァストポリ', 'UKS', 'Sebastòpol', 'Szevasztopol', 'Севастопољ', 'Sevastopole', 'Sevastopolis', 'Sewastopol', '塞瓦斯托波爾', 'Севастопаль', 'ဆီပတ်စတိုပိုမြို့'}\n",
      "http://www.isi.edu/gaia/entities/90c6f6ec-b605-438f-a5cb-89ea35f628b9 ('Путина',) None None None None None None None {'Путина', \"putin's\"}\n",
      "http://www.isi.edu/gaia/entities/b7291b40-d96b-4835-98eb-fba70e5d6251 ('Виктором Федоровичем Януковичем',) None None None None None None None {None, 'Виктором Федоровичем Януковичем'}\n",
      "http://www.isi.edu/gaia/entities/42e1b45a-399d-4ef8-b383-84ba887d4904 ('Виталий Портников',) None ('m.047cnj8',) ['http://www.wikidata.org/entity/Q1965178'] ('Vitaly Portnikov',) ((),) ['m.047cnj8'] None {'Vitaly Portnikov', 'Портников Віталій Едуардович', 'Віталій Портников', 'Портников Виталий Эдуардович', 'Портников В.', 'Виталий Эдуардович Портников', 'Портніков Віталій Едуардович', 'Портников В. Э.', 'Виталий Портников', 'vitaliy portniki', 'Portnikov, Vitaly', 'Портников, Виталий', 'Портников, Виталий Эдуардович', 'Віталій Портніков', 'Портников Віталій', 'greetings of portraits', 'Портников', 'Віталій Едуардович Портников'}\n",
      "http://www.isi.edu/gaia/entities/68d4fa11-5f62-4d10-9b43-686e0eeac456 ('Дальний Восток', 'Дальний Восток', 'Дальний Восток') ('LDC2019E43:6255147', 'LDC2019E43:1814991', 'LDC2019E43:1004464') ('m.032yv',) ['http://www.wikidata.org/entity/Q42225'] ('Far East',) ((),) ['m.032yv'] ['LDC2019E43:1004464'] {'far east', 'Дальний Восток', 'Східна Євразія', 'Далекий Схід', 'Far East', 'The Far East', 'Eastern Eurasia'}\n",
      "http://www.isi.edu/gaia/entities/07a0c8ab-5bd0-4d7e-b5f8-de1260b5e61b ('Новороссийск', 'Новороссийск', 'Новороссийск') ('LDC2019E43:1496810', 'LDC2019E43:518255', 'LDC2019E43:8298919') ('m.04fx9m',) ['http://www.wikidata.org/entity/Q15760'] ('Novorossiysk',) ((),) ['m.04fx9m'] ['LDC2019E43:518255'] {'Noworossiisk', 'Novorossiysk', 'Νοβορωσίσκ', 'Novorossijsk', 'Новороссийск', 'nobolosiseukeu', 'Noborosisk', 'Noworossijsk', 'Новоросијск', 'Novorosijsk', None, '노보로시스크', 'Новоросійськ', 'Novorossiejsk', 'Noworosyjsk', 'Novorossiisk', 'Novorossisk'}\n",
      "http://www.isi.edu/gaia/entities/d2dd2846-98c7-45d3-bdd2-672b6d99ef51 ('Кучме',) None ('m.021yhj',) ['http://www.wikidata.org/entity/Q629702'] ('Leonid Kuchma',) (('Леонід Данилович Кучма',),) ['m.021yhj'] None {'kuchma leonid danilovich', 'Кучма, Леонид Данилович', 'Кучме', 'Leonid Kuchma', 'Кучма', 'Леоні́д Дани́лович Ку́чма', 'Леонид Данилович Кучма', None, 'Леонид Кучма', 'Леонід Данилович Кучма', 'kuchma', 'Кучма Леонід Данилович', 'leonid danilovich kuchma'}\n",
      "http://www.isi.edu/gaia/entities/3136569c-e85e-46b2-bec2-13dfea02d251 ('словом',) None ('m.07zypy',) ['http://www.wikidata.org/entity/Q722184'] ('In a Word: Yes',) ((),) ['m.07zypy'] None {'словом', 'In a Word: Yes', None}\n"
     ]
    }
   ],
   "source": [
    "for r in ds.head():\n",
    "    print(r.id, r.name, r.targets, r.fbid, r.selected_wikidata, r.wiki_label_en, r.wiki_alias_en, r.selected_fbid, r.selected_targets, r.concatenated_labels)"
   ]
  },
  {
   "cell_type": "code",
   "execution_count": 466,
   "metadata": {},
   "outputs": [],
   "source": [
    "def distribution_of_block(blocks):\n",
    "    num_in_block = []\n",
    "    for b, data in blocks.key_set_adapter:\n",
    "        num_in_block.append(len(data))\n",
    "\n",
    "    from collections import Counter\n",
    "    return dict(sorted(Counter(num_in_block).items()))"
   ]
  },
  {
   "cell_type": "code",
   "execution_count": 467,
   "metadata": {},
   "outputs": [],
   "source": [
    "bg_kb = rltk.TokenBlockGenerator()\n",
    "blocks_kb = bg_kb.block(ds, function_=lambda r: list(r.selected_targets) if r.selected_targets else ['None'])"
   ]
  },
  {
   "cell_type": "code",
   "execution_count": 468,
   "metadata": {},
   "outputs": [
    {
     "data": {
      "text/plain": [
       "2128"
      ]
     },
     "execution_count": 468,
     "metadata": {},
     "output_type": "execute_result"
    }
   ],
   "source": [
    "sum(1 for _ in blocks_kb.key_set_adapter)"
   ]
  },
  {
   "cell_type": "code",
   "execution_count": 469,
   "metadata": {},
   "outputs": [
    {
     "data": {
      "text/plain": [
       "14503"
      ]
     },
     "execution_count": 469,
     "metadata": {},
     "output_type": "execute_result"
    }
   ],
   "source": [
    "distinct_entity_ids = set([])\n",
    "for bid, data in blocks_kb.key_set_adapter:\n",
    "    if bid == 'None':\n",
    "        continue\n",
    "    for _, rid in data:\n",
    "        distinct_entity_ids.add(rid)\n",
    "len(distinct_entity_ids)"
   ]
  },
  {
   "cell_type": "code",
   "execution_count": 470,
   "metadata": {},
   "outputs": [],
   "source": [
    "# distribution_of_block(blocks_kb)"
   ]
  },
  {
   "cell_type": "code",
   "execution_count": 471,
   "metadata": {},
   "outputs": [],
   "source": [
    "bg_fb = rltk.TokenBlockGenerator()\n",
    "blocks_fb = bg_fb.block(ds, function_=lambda r: r.selected_fbid if r.selected_fbid else ['None'])"
   ]
  },
  {
   "cell_type": "code",
   "execution_count": 472,
   "metadata": {},
   "outputs": [
    {
     "data": {
      "text/plain": [
       "5641"
      ]
     },
     "execution_count": 472,
     "metadata": {},
     "output_type": "execute_result"
    }
   ],
   "source": [
    "sum(1 for _ in blocks_fb.key_set_adapter)"
   ]
  },
  {
   "cell_type": "code",
   "execution_count": 473,
   "metadata": {},
   "outputs": [],
   "source": [
    "# distribution_of_block(blocks_fb)"
   ]
  },
  {
   "cell_type": "markdown",
   "metadata": {},
   "source": [
    "# Cluster baseline"
   ]
  },
  {
   "cell_type": "code",
   "execution_count": 474,
   "metadata": {},
   "outputs": [],
   "source": [
    "# MAX_DISTANCE = 999999\n",
    "class Cluster(object):\n",
    "    def __init__(self, ds):\n",
    "        self.attractive_records = set([])  # contribute to clustering\n",
    "        self.all_records = set([])\n",
    "        self.ds = ds\n",
    "        self.type = None\n",
    "        self.wd_id = set([])\n",
    "        self.kb_id = set([])\n",
    "        self.fb_id = set([])\n",
    "    \n",
    "    @staticmethod\n",
    "    def record_score(r1, r2):\n",
    "        score = rltk.jaccard_index_similarity(set(r1.concatenated_labels), set(r2.concatenated_labels))\n",
    "        return score\n",
    "\n",
    "    def similarity(self, r):\n",
    "#         if r.type != self.type:\n",
    "#             return MAX_DISTANCE\n",
    "        \n",
    "        score =  max([self.record_score(r, self.ds.get_record(rr)) for rr in self.attractive_records])\n",
    "#         if score == 0:\n",
    "#             return MAX_DISTANCE\n",
    "        return score\n",
    "\n",
    "    def add(self, r, contribute=True):\n",
    "        if isinstance(r, rltk.Record):\n",
    "            r = r.id\n",
    "        if contribute:\n",
    "            self.attractive_records.add(r)\n",
    "        self.all_records.add(r)"
   ]
  },
  {
   "cell_type": "code",
   "execution_count": 475,
   "metadata": {},
   "outputs": [],
   "source": [
    "# build cluster based on type\n",
    "all_clusters = []\n",
    "for bid, data in blocks_kb.key_set_adapter:\n",
    "    if bid == 'None':\n",
    "        continue\n",
    "    \n",
    "    c = Cluster(ds)\n",
    "    for _, r_id in data:\n",
    "        r = ds.get_record(r_id)\n",
    "        for id_ in r.selected_targets:\n",
    "            c.kb_id.add(id_)\n",
    "        if r.fbid:\n",
    "            for id_ in r.selected_fbid:\n",
    "                c.fb_id.add(id_)\n",
    "        if r.wikidata:\n",
    "            for id_ in r.selected_wikidata:\n",
    "                c.wd_id.add(id_)\n",
    "        c.add(r)\n",
    "    all_clusters.append(c)"
   ]
  },
  {
   "cell_type": "code",
   "execution_count": 476,
   "metadata": {},
   "outputs": [
    {
     "name": "stdout",
     "output_type": "stream",
     "text": [
      "{'LDC2019E43:2022890'} {'m.010f1kyh'} set()\n",
      "{'LDC2019E43:524901'} {'m.04swd', 'm.06pr6'} {'http://www.wikidata.org/entity/Q656', 'http://www.wikidata.org/entity/Q649'}\n",
      "{'LDC2019E43:694423'} {'m.0dlvj'} {'http://www.wikidata.org/entity/Q7525'}\n",
      "{'LDC2019E43:1004464'} {'m.032yv'} {'http://www.wikidata.org/entity/Q42225'}\n",
      "{'LDC2019E43:518255'} {'m.04fx9m'} {'http://www.wikidata.org/entity/Q15760'}\n",
      "{'LDC2019E43:703884'} {'m.0840w', 'm.0ndwhc3', 'm.02h83h', 'm.0b26yk'} {'http://www.wikidata.org/entity/Q1020077', 'http://www.wikidata.org/entity/Q170672', 'http://www.wikidata.org/entity/Q7835', 'http://www.wikidata.org/entity/Q7817'}\n",
      "{'LDC2019E43:491422'} {'m.0m465'} {'http://www.wikidata.org/entity/Q39420'}\n",
      "{'LDC2019E43:630673'} {'m.015h7'} {'http://www.wikidata.org/entity/Q166'}\n",
      "{'LDC2019E43:688533'} {'m.01jbk6'} {'http://www.wikidata.org/entity/Q128499'}\n",
      "{'LDC2019E43:703448'} {'m.021g_z', 'm.02sn34', 'm.09c7w0'} {'http://www.wikidata.org/entity/Q40855', 'http://www.wikidata.org/entity/Q30', 'http://www.wikidata.org/entity/Q1899'}\n",
      "{'LDC2019E43:690791'} {'m.02y1vz', 'm.08w60w', 'm.05vz3zq', 'm.04zxjlk', 'm.0jl0g', 'm.02j9z', 'm.0f8l9c', 'm.02h82m', 'm.0d0x8', 'm.021g_z', 'm.0840w', 'm.06bnz', 'm.021yhj', 'm.0b26yk'} {'http://www.wikidata.org/entity/Q708985', 'http://www.wikidata.org/entity/Q567', 'http://www.wikidata.org/entity/Q355', 'http://www.wikidata.org/entity/Q40855', 'http://www.wikidata.org/entity/Q1020077', 'http://www.wikidata.org/entity/Q7817', 'http://www.wikidata.org/entity/Q58077', 'http://www.wikidata.org/entity/Q159', 'http://www.wikidata.org/entity/Q46', 'http://www.wikidata.org/entity/Q1428', 'http://www.wikidata.org/entity/Q142', 'http://www.wikidata.org/entity/Q15180', 'http://www.wikidata.org/entity/Q629702', 'http://www.wikidata.org/entity/Q171965'}\n",
      "{'LDC2019E43:80000144'} {'m.023115', 'm.021g_z', 'm.021yhj', 'm.07t21'} {'http://www.wikidata.org/entity/Q40855', 'http://www.wikidata.org/entity/Q1459658', 'http://www.wikidata.org/entity/Q212', 'http://www.wikidata.org/entity/Q629702'}\n",
      "{'LDC2019E43:2017370'} {'m.08w60w', 'm.04zxjlk', 'm.0f8l9c', 'm.09c7w0', 'm.0840w', 'm.08193', 'm.0b26yk'} {'http://www.wikidata.org/entity/Q708985', 'http://www.wikidata.org/entity/Q1020077', 'http://www.wikidata.org/entity/Q7747', 'http://www.wikidata.org/entity/Q58077', 'http://www.wikidata.org/entity/Q7817', 'http://www.wikidata.org/entity/Q30', 'http://www.wikidata.org/entity/Q142'}\n",
      "{'LDC2019E43:30003842'} {'m.08w60w', 'm.0b3jc', 'm.06bnz', 'm.01_vwx', 'm.021yhj', 'm.0cdbq', 'm.08193'} {'http://www.wikidata.org/entity/Q14974', 'http://www.wikidata.org/entity/Q7747', 'http://www.wikidata.org/entity/Q58077', 'http://www.wikidata.org/entity/Q159', 'http://www.wikidata.org/entity/Q629702', 'http://www.wikidata.org/entity/Q34266', 'http://www.wikidata.org/entity/Q44329'}\n",
      "{'LDC2019E43:80000066'} {'m.034q1f', 'm.0840w'} {'http://www.wikidata.org/entity/Q615811', 'http://www.wikidata.org/entity/Q7817'}\n",
      "{'LDC2019E43:80000075'} {'m.021lry', 'm.02ps5qq', 'm.02cnh5', 'm.0163v'} {'http://www.wikidata.org/entity/Q133274', 'http://www.wikidata.org/entity/Q1140115', 'http://www.wikidata.org/entity/Q184', 'http://www.wikidata.org/entity/Q914114'}\n",
      "{'LDC2019E43:698740'} {'m.0ffmp'} {'http://www.wikidata.org/entity/Q1874'}\n",
      "{'LDC2019E43:618426'} {'m.0fn77'} {'http://www.wikidata.org/entity/Q21197'}\n",
      "{'LDC2019E43:702550'} {'m.038px2', 'm.0d7_n'} {'http://www.wikidata.org/entity/Q297032', 'http://www.wikidata.org/entity/Q36036'}\n",
      "{'LDC2019E43:709930'} {'m.02h83h'} {'http://www.wikidata.org/entity/Q170672'}\n"
     ]
    }
   ],
   "source": [
    "for idx, c in enumerate(all_clusters):\n",
    "    if idx == 20:\n",
    "        break\n",
    "    print(c.kb_id, c.fb_id, c.wd_id)"
   ]
  },
  {
   "cell_type": "code",
   "execution_count": 477,
   "metadata": {},
   "outputs": [],
   "source": [
    "# # build cluster based on ids\n",
    "# all_clusters = []\n",
    "\n",
    "# for bid, data in blocks_kb.key_set_adapter:\n",
    "#     if bid == 'None':\n",
    "#         continue\n",
    "    \n",
    "#     c = Cluster(ds)\n",
    "#     for _, r_id in data:\n",
    "#         r = ds.get_record(r_id)\n",
    "#         for id_ in r.selected_targets:\n",
    "#             c.kb_id.add(id_)\n",
    "#         c.add(r)\n",
    "#     all_clusters.append(c)\n",
    "\n",
    "# for bid, data in blocks_fb.key_set_adapter:\n",
    "#     if bid == 'None':\n",
    "#         continue\n",
    "    \n",
    "#     c = Cluster(ds)\n",
    "#     for _, r_id in data:\n",
    "#         r = ds.get_record(r_id)\n",
    "#         for id_ in r.selected_fbid:\n",
    "#             c.fb_id.add(id_)\n",
    "#         c.add(r)\n",
    "#     all_clusters.append(c)"
   ]
  },
  {
   "cell_type": "code",
   "execution_count": 478,
   "metadata": {},
   "outputs": [
    {
     "name": "stdout",
     "output_type": "stream",
     "text": [
      "{'LDC2019E43:2022890'} {'m.010f1kyh'} set()\n",
      "{'LDC2019E43:524901'} {'m.04swd', 'm.06pr6'} {'http://www.wikidata.org/entity/Q656', 'http://www.wikidata.org/entity/Q649'}\n",
      "{'LDC2019E43:694423'} {'m.0dlvj'} {'http://www.wikidata.org/entity/Q7525'}\n",
      "{'LDC2019E43:1004464'} {'m.032yv'} {'http://www.wikidata.org/entity/Q42225'}\n",
      "{'LDC2019E43:518255'} {'m.04fx9m'} {'http://www.wikidata.org/entity/Q15760'}\n"
     ]
    }
   ],
   "source": [
    "for idx, c in enumerate(all_clusters):\n",
    "    if idx == 5:\n",
    "        break\n",
    "    print(c.kb_id, c.fb_id, c.wd_id)"
   ]
  },
  {
   "cell_type": "code",
   "execution_count": 479,
   "metadata": {},
   "outputs": [],
   "source": [
    "# label_to_cluster_index = defaultdict(list)\n",
    "# for c in all_clusters:\n",
    "#     for rid in c.attractive_records:\n",
    "#         for l in ds.get_record(rid).concatenated_labels:\n",
    "#             label_to_cluster_index[l].append(c)"
   ]
  },
  {
   "cell_type": "code",
   "execution_count": 480,
   "metadata": {},
   "outputs": [
    {
     "data": {
      "text/plain": [
       "{0, 1, 2, 3, 4, 5, 6, 7, 14}"
      ]
     },
     "execution_count": 480,
     "metadata": {},
     "output_type": "execute_result"
    }
   ],
   "source": [
    "count_of_freebase_in_cluster = set([])\n",
    "for c in all_clusters:\n",
    "    count_of_freebase_in_cluster.add(len(c.fb_id))\n",
    "count_of_freebase_in_cluster"
   ]
  },
  {
   "cell_type": "code",
   "execution_count": 481,
   "metadata": {},
   "outputs": [],
   "source": [
    "# old approach\n",
    "# # merge clusters\n",
    "# merged_blocks = set([])\n",
    "# for c in all_clusters:\n",
    "#     for fb_id in c.fb_id:\n",
    "#         for _, r_id in blocks_fb.get(fb_id):\n",
    "#             c.add(r_id)\n",
    "#         merged_blocks.add(fb_id)\n",
    "\n",
    "# # only has fb id\n",
    "# for bid, data in blocks_fb.key_set_adapter:\n",
    "#     if bid == 'None' or bid in merged_blocks:\n",
    "#         continue\n",
    "    \n",
    "#     c = Cluster(ds)\n",
    "#     for _, r_id in data:\n",
    "#         r = ds.get_record(r_id)\n",
    "#         c.fb_id.add(r.freebase)\n",
    "#         c.add(r)\n",
    "#     all_clusters.append(c)\n",
    "\n",
    "# only has freebase id\n",
    "fb_only_clusters = {}\n",
    "for bid, data in blocks_fb.key_set_adapter:\n",
    "    if bid == 'None':\n",
    "        continue\n",
    "        \n",
    "    fb_only_clusters[bid] = set()\n",
    "    for _, r_id in data:\n",
    "        r = ds.get_record(r_id)\n",
    "        if r.selected_targets:\n",
    "            continue\n",
    "        fb_only_clusters[bid].add(r_id)\n",
    "    if len(fb_only_clusters[bid]) == 0:\n",
    "        del fb_only_clusters[bid]\n",
    "\n",
    "for bid, cluster in fb_only_clusters.items():\n",
    "    c = Cluster(ds)\n",
    "    for r_id in cluster:\n",
    "        c.add(r_id)\n",
    "        r = ds.get_record(r_id)\n",
    "        if r.fbid:\n",
    "            for id_ in r.selected_fbid:\n",
    "                c.fb_id.add(id_)\n",
    "        if r.wikidata:\n",
    "            for id_ in r.selected_wikidata:\n",
    "                c.wd_id.add(id_)\n",
    "    all_clusters.append(c)"
   ]
  },
  {
   "cell_type": "code",
   "execution_count": 482,
   "metadata": {},
   "outputs": [
    {
     "data": {
      "text/plain": [
       "3891"
      ]
     },
     "execution_count": 482,
     "metadata": {},
     "output_type": "execute_result"
    }
   ],
   "source": [
    "len(fb_only_clusters)"
   ]
  },
  {
   "cell_type": "code",
   "execution_count": 483,
   "metadata": {},
   "outputs": [
    {
     "data": {
      "text/plain": [
       "6018"
      ]
     },
     "execution_count": 483,
     "metadata": {},
     "output_type": "execute_result"
    }
   ],
   "source": [
    "len_all_clusters = len(all_clusters)\n",
    "len_all_clusters"
   ]
  },
  {
   "cell_type": "code",
   "execution_count": 484,
   "metadata": {},
   "outputs": [
    {
     "name": "stdout",
     "output_type": "stream",
     "text": [
      "No multi-targets detected\n"
     ]
    }
   ],
   "source": [
    "for idx, c in enumerate(all_clusters):\n",
    "    if len(c.kb_id) > 1:\n",
    "        print('mulitple kb_ids in cluster', c.kb_id)\n",
    "        break\n",
    "        \n",
    "    kb_ids = set()\n",
    "    for r_id in c.all_records:\n",
    "        r = ds.get_record(r_id)\n",
    "        if r.selected_targets:\n",
    "            for id_ in r.selected_targets:\n",
    "                kb_ids.add(id_)\n",
    "    if len(kb_ids) > 1:\n",
    "        print('mulitple kb_ids in cluster', kb_ids, c.kb_id)\n",
    "        break\n",
    "else:\n",
    "    print('No multi-targets detected')"
   ]
  },
  {
   "cell_type": "code",
   "execution_count": 485,
   "metadata": {},
   "outputs": [
    {
     "name": "stdout",
     "output_type": "stream",
     "text": [
      "ldcOnt:PER.ProfessionalPosition.Scientist PER\n",
      "ldcOnt:PER.Combatant.Sniper PER\n",
      "ldcOnt:ORG.Association ORG\n",
      "ldcOnt:ORG.MilitaryOrganization.GovernmentArmedForces ORG\n",
      "ldcOnt:ORG.Government.Railway ORG\n",
      "ldcOnt:ORG.Government.LegislativeBody ORG\n",
      "ldcOnt:PER.MilitaryPersonnel.MilitaryOfficer PER\n",
      "ldcOnt:PER.ProfessionalPosition.Ambassador PER\n",
      "ldcOnt:GPE.Country.Country GeoLoc\n",
      "ldcOnt:PER.ProfessionalPosition.Spokesperson PER\n",
      "ldcOnt:ORG.PoliticalOrganization.Party ORG\n",
      "ldcOnt:PER.Combatant.Mercenary PER\n",
      "ldcOnt:LOC.Position.AirSpace GeoLoc\n",
      "ldcOnt:PER.MilitaryPersonnel PER\n",
      "ldcOnt:ORG.CommercialOrganization.BroadcastingCompany ORG\n",
      "ldcOnt:LOC.Position GeoLoc\n",
      "ldcOnt:GPE.OrganizationOfCountries.OrganizationOfCountries GeoLoc\n",
      "ldcOnt:GPE.ProvinceState.ProvinceState GeoLoc\n",
      "ldcOnt:GPE.UrbanArea.City GeoLoc\n",
      "ldcOnt:ORG.Government.LawEnforcementAgency ORG\n",
      "ldcOnt:PER.Politician.Governor PER\n",
      "ldcOnt:PER.ProfessionalPosition PER\n",
      "ldcOnt:LOC.Position.Field GeoLoc\n",
      "ldcOnt:ORG.Association.Team ORG\n",
      "ldcOnt:ORG.International ORG\n",
      "ldcOnt:ORG.MilitaryOrganization.NonGovernmentMilitia ORG\n",
      "ldcOnt:ORG.PoliticalOrganization.Court ORG\n",
      "ldcOnt:LOC.Land GeoLoc\n",
      "ldcOnt:GPE.UrbanArea GeoLoc\n",
      "ldcOnt:LOC.Position.Region GeoLoc\n",
      "ldcOnt:PER PER\n",
      "ldcOnt:PER.ProfessionalPosition.Spy PER\n",
      "ldcOnt:ORG ORG\n",
      "ldcOnt:PER.Politician.Mayor PER\n",
      "ldcOnt:ORG.MilitaryOrganization.Intelligence ORG\n",
      "ldcOnt:ORG.CommercialOrganization ORG\n",
      "ldcOnt:ORG.Government.Council ORG\n",
      "ldcOnt:ORG.Association.Club ORG\n",
      "ldcOnt:ORG.CommercialOrganization.NewsAgency ORG\n",
      "ldcOnt:PER.ProfessionalPosition.Journalist PER\n",
      "ldcOnt:PER.Protester PER\n",
      "ldcOnt:ORG.CommercialOrganization.Corporation ORG\n",
      "ldcOnt:ORG.CommercialOrganization.Manufacturer ORG\n",
      "ldcOnt:PER.Combatant PER\n",
      "ldcOnt:GPE GeoLoc\n",
      "ldcOnt:ORG.Government ORG\n",
      "ldcOnt:GPE.UrbanArea.Village GeoLoc\n",
      "ldcOnt:PER.ProfessionalPosition.Paramedic PER\n",
      "ldcOnt:PER.Politician PER\n",
      "ldcOnt:LOC.Position.Neighborhood GeoLoc\n",
      "ldcOnt:LOC.GeographicPoint GeoLoc\n",
      "ldcOnt:PER.Police PER\n",
      "ldcOnt:ORG.Government.Agency ORG\n",
      "ldcOnt:ORG.PoliticalOrganization ORG\n",
      "ldcOnt:ORG.MilitaryOrganization ORG\n",
      "ldcOnt:PER.ProfessionalPosition.Minister PER\n",
      "ldcOnt:LOC.Land.Continent GeoLoc\n",
      "ldcOnt:PER.Fan.SportsFan PER\n",
      "ldcOnt:ORG.International.MonitoringGroup ORG\n",
      "ldcOnt:LOC GeoLoc\n",
      "ldcOnt:PER.Politician.HeadOfGovernment PER\n"
     ]
    }
   ],
   "source": [
    "# type normalization\n",
    "# normalize_types = {\n",
    "#     'ldcOnt:GPE': 'GeoLoc',\n",
    "#     'ldcOnt:GPE.UrbanArea.City': 'GeoLoc',\n",
    "#     'ldcOnt:LOC': 'GeoLoc',\n",
    "#     'ldcOnt:LOC.Land': 'GeoLoc',\n",
    "#     'ldcOnt:LOC.Land.Continent': 'GeoLoc',\n",
    "#     'ldcOnt:LOC.Position.Region': 'GeoLoc',\n",
    "#     'ldcOnt:ORG': 'Organization',\n",
    "#     'ldcOnt:ORG.Association': 'Organization',\n",
    "#     'ldcOnt:ORG.Association.Team': 'Organization',\n",
    "#     'ldcOnt:ORG.CommercialOrganization': 'Organization',\n",
    "#     'ldcOnt:ORG.CommercialOrganization.BroadcastingCompany': 'Organization',\n",
    "#     'ldcOnt:ORG.CommercialOrganization.NewsAgency': 'Organization',\n",
    "#     'ldcOnt:ORG.Government.Agency': 'Organization',\n",
    "#     'ldcOnt:ORG.Government.Council': 'Organization',\n",
    "#     'ldcOnt:ORG.Government.LawEnforcementAgency': 'Organization',\n",
    "#     'ldcOnt:ORG.Government.LegislativeBody': 'Organization',\n",
    "#     'ldcOnt:ORG.International': 'Organization',\n",
    "#     'ldcOnt:ORG.MilitaryOrganization': 'Organization',\n",
    "#     'ldcOnt:ORG.MilitaryOrganization.GovernmentArmedForces': 'Organization',\n",
    "#     'ldcOnt:ORG.MilitaryOrganization.NonGovernmentMilitia': 'Organization',\n",
    "#     'ldcOnt:ORG.PoliticalOrganization.Party': 'Organization',\n",
    "#     'ldcOnt:PER': 'Person',\n",
    "#     'ldcOnt:PER.Combatant': 'Person',\n",
    "#     'ldcOnt:PER.MilitaryPersonnel': 'Person',\n",
    "#     'ldcOnt:PER.MilitaryPersonnel.MilitaryOfficer': 'Person',\n",
    "#     'ldcOnt:PER.Politician': 'Person',\n",
    "#     'ldcOnt:PER.Politician.HeadOfGovernment': 'Person',\n",
    "#     'ldcOnt:PER.ProfessionalPosition.Ambassador': 'Person',\n",
    "#     'ldcOnt:PER.ProfessionalPosition.Minister': 'Person',\n",
    "#     'ldcOnt:PER.ProfessionalPosition.Scientist': 'Person',\n",
    "#     'ldcOnt:PER.ProfessionalPosition.Spokesperson': 'Person',\n",
    "# }\n",
    "\n",
    "def normalize_type(t):\n",
    "    type_prefix = t.split('.')[0][len('ldcOnt:'):]\n",
    "    if type_prefix in ('GPE', 'LOC'):\n",
    "        return 'GeoLoc'\n",
    "    return type_prefix\n",
    "\n",
    "for t in selected_types:\n",
    "    print(t, normalize_type(t))"
   ]
  },
  {
   "cell_type": "code",
   "execution_count": 486,
   "metadata": {},
   "outputs": [],
   "source": [
    "# split based on types\n",
    "all_clusters_splitted = []\n",
    "for c in all_clusters:\n",
    "    types = {}\n",
    "    for r_id in c.all_records:\n",
    "        r = ds.get_record(r_id)\n",
    "        type_ = normalize_type(r.type)\n",
    "        if type_ not in types:\n",
    "            cc = Cluster(ds)\n",
    "            cc.type = type_\n",
    "            types[type_] = cc\n",
    "            \n",
    "        cc = types[type_]\n",
    "        cc.add(r_id)\n",
    "        if r.selected_targets:\n",
    "            for id_ in r.selected_targets:\n",
    "                cc.kb_id.add(id_)\n",
    "        if r.selected_fbid:\n",
    "            for id_ in r.selected_fbid:\n",
    "                cc.fb_id.add(id_)\n",
    "        if r.selected_wikidata:\n",
    "            for id_ in r.selected_wikidata:\n",
    "                cc.wd_id.add(id_)\n",
    "    for cc in types.values():\n",
    "        all_clusters_splitted.append(cc)"
   ]
  },
  {
   "cell_type": "code",
   "execution_count": 487,
   "metadata": {},
   "outputs": [
    {
     "data": {
      "text/plain": [
       "6124"
      ]
     },
     "execution_count": 487,
     "metadata": {},
     "output_type": "execute_result"
    }
   ],
   "source": [
    "len_all_clusters_splitted = len(all_clusters_splitted)\n",
    "len_all_clusters_splitted"
   ]
  },
  {
   "cell_type": "code",
   "execution_count": 488,
   "metadata": {},
   "outputs": [],
   "source": [
    "# # generate most common label\n",
    "# most_common_labels = []\n",
    "# for c in all_clusters_splitted:\n",
    "#     name_count = defaultdict(int)\n",
    "#     for rid in c.all_records:\n",
    "#         for n in ds.get_record(rid).name:\n",
    "#             name_count[n] += 1\n",
    "# #     sorted_names = sorted(name_count.items(), key=lambda x: x[1], reverse=True)\n",
    "# #     if sorted_names[0][0] == 'Житомирі вночі':\n",
    "# #         print(sorted_names)\n",
    "#     most_common_labels.append(sorted(name_count.items(), key=lambda x: x[1], reverse=True)[0][0])\n",
    "\n",
    "# # for idx, l in enumerate(most_common_labels):\n",
    "# #     if l == 'Житомирі вночі':\n",
    "# #         print(idx)"
   ]
  },
  {
   "cell_type": "code",
   "execution_count": 489,
   "metadata": {},
   "outputs": [],
   "source": [
    "# # merge\n",
    "# deduped_all_clusters_splitted = {}\n",
    "# merged_from = {}\n",
    "# for idx, c in enumerate(all_clusters_splitted):\n",
    "#     key = most_common_labels[idx] + ' ' + c.type\n",
    "#     if key not in deduped_all_clusters_splitted:\n",
    "#         deduped_all_clusters_splitted[key] = Cluster(ds)\n",
    "#         deduped_all_clusters_splitted[key].main_label = most_common_labels[idx]\n",
    "#         deduped_all_clusters_splitted[key].type = c.type\n",
    "#         merged_from[key] = []\n",
    "        \n",
    "#     deduped_all_clusters_splitted[key].all_records |= c.all_records\n",
    "#     deduped_all_clusters_splitted[key].attractive_records |= c.attractive_records\n",
    "#     deduped_all_clusters_splitted[key].wd_id |= c.wd_id\n",
    "#     deduped_all_clusters_splitted[key].kb_id |= c.kb_id\n",
    "#     deduped_all_clusters_splitted[key].fb_id |= c.fb_id\n",
    "#     merged_from[key].append(list(c.all_records))\n",
    "        "
   ]
  },
  {
   "cell_type": "code",
   "execution_count": 490,
   "metadata": {},
   "outputs": [],
   "source": [
    "# deduped_all_clusters_splitted_list = list(deduped_all_clusters_splitted.values())"
   ]
  },
  {
   "cell_type": "code",
   "execution_count": 491,
   "metadata": {},
   "outputs": [],
   "source": [
    "# for idx, c in enumerate(deduped_all_clusters_splitted_list):\n",
    "#     if len(c.kb_id) > 1:\n",
    "#         print(c.main_label, len(c.all_records), len(c.attractive_records),len(c.kb_id), list(c.kb_id)[:10])\n",
    "# #     if idx == 100:\n",
    "# #         break"
   ]
  },
  {
   "cell_type": "code",
   "execution_count": 492,
   "metadata": {},
   "outputs": [],
   "source": [
    "# for idx, c in enumerate(deduped_all_clusters_splitted_list):\n",
    "#     if len(c.kb_id) > 1:\n",
    "#         print(c.main_label, len(c.all_records), len(c.attractive_records),len(c.kb_id), list(c.kb_id)[:10])\n",
    "# #     if idx == 100:\n",
    "# #         break"
   ]
  },
  {
   "cell_type": "code",
   "execution_count": 493,
   "metadata": {},
   "outputs": [],
   "source": [
    "# for c in merged_from['Житомирі вночі GeoLoc']:\n",
    "#     for idx, rid in enumerate(c):\n",
    "#         r = ds.get_record(rid)\n",
    "#         print(rid, r.name, r.type, r.selected_targets)\n",
    "#         if idx == 10:\n",
    "#             break\n",
    "        \n",
    "#     break"
   ]
  },
  {
   "cell_type": "code",
   "execution_count": 494,
   "metadata": {},
   "outputs": [],
   "source": [
    "from statistics import mean, median\n",
    "\n",
    "def compute_statistics(scores):\n",
    "    return {\n",
    "        'min': min(scores),\n",
    "        'max': max(scores),\n",
    "        'median': median(scores),\n",
    "        'average': mean(scores)\n",
    "    }\n",
    "\n",
    "def debug_output(c, output_type):\n",
    "    # aggregate target\n",
    "    target_agg_confidence = defaultdict(list)\n",
    "    for rid in c.all_records:\n",
    "        r = ds.get_record(rid)\n",
    "        if r.targets:\n",
    "            for idx, t in enumerate(r.targets):\n",
    "                target_agg_confidence[t].append(r.target_scores[idx])\n",
    "                \n",
    "    # aggregate wikidata\n",
    "    wikidata_agg_confidence = defaultdict(list)\n",
    "    for rid in c.all_records:\n",
    "        r = ds.get_record(rid)\n",
    "        if r.wikidata:\n",
    "            for idx, t in enumerate(r.wikidata):\n",
    "                wikidata_agg_confidence[t].append(r.fbid_score_avg[idx])\n",
    "                \n",
    "    # generate json\n",
    "    j = {'attractive_records': list(c.attractive_records), 'all_records': {}, 'output_type': output_type, 'type': c.type,\n",
    "        'kb_id': list(c.kb_id), 'fb_id': list(c.fb_id), 'wd_id': list(c.wd_id),\n",
    "        'kb_statistics': {k: compute_statistics(v) for k, v in target_agg_confidence.items()},\n",
    "        'wd_statistics': {k: compute_statistics(v) for k, v in wikidata_agg_confidence.items()}\n",
    "    }\n",
    "    for rid in c.all_records:\n",
    "        j['all_records'][rid] = ds.get_record(rid).__dict__\n",
    "        if 'concatenated_labels' in j['all_records'][rid]:\n",
    "            del j['all_records'][rid]['concatenated_labels']\n",
    "#         j['all_records'][rid]['concatenated_labels'] = list(j['all_records'][rid]['concatenated_labels'])\n",
    "    return j"
   ]
  },
  {
   "cell_type": "code",
   "execution_count": 495,
   "metadata": {},
   "outputs": [],
   "source": [
    "# import json\n",
    "# with open('clusters-baseline-20190712-rpi-002.jl', 'w') as f:\n",
    "#     for c in all_clusters_splitted:\n",
    "#         f.write(json.dumps(list(c.all_records)) + '\\n')\n",
    "# with open('clusters-baseline-20190710-001-debug.jl', 'w') as f:\n",
    "#     for c in deduped_all_clusters_splitted_list:\n",
    "#         f.write(json.dumps(debug_output(c, 'baseline')) + '\\n')"
   ]
  },
  {
   "cell_type": "markdown",
   "metadata": {},
   "source": [
    "# Cluster singletons"
   ]
  },
  {
   "cell_type": "code",
   "execution_count": 496,
   "metadata": {},
   "outputs": [],
   "source": [
    "df_singleton = df_entity[df_entity['targets'].isnull() & df_entity['fbid'].isnull()]['e']"
   ]
  },
  {
   "cell_type": "code",
   "execution_count": 497,
   "metadata": {},
   "outputs": [
    {
     "data": {
      "text/html": [
       "<div>\n",
       "<style scoped>\n",
       "    .dataframe tbody tr th:only-of-type {\n",
       "        vertical-align: middle;\n",
       "    }\n",
       "\n",
       "    .dataframe tbody tr th {\n",
       "        vertical-align: top;\n",
       "    }\n",
       "\n",
       "    .dataframe thead th {\n",
       "        text-align: right;\n",
       "    }\n",
       "</style>\n",
       "<table border=\"1\" class=\"dataframe\">\n",
       "  <thead>\n",
       "    <tr style=\"text-align: right;\">\n",
       "      <th></th>\n",
       "      <th>e</th>\n",
       "      <th>type</th>\n",
       "      <th>name</th>\n",
       "      <th>source</th>\n",
       "      <th>targets</th>\n",
       "      <th>target_scores</th>\n",
       "      <th>fbid</th>\n",
       "      <th>fbid_score_avg</th>\n",
       "      <th>fbid_score_max</th>\n",
       "      <th>wikidata</th>\n",
       "      <th>wiki_label_en</th>\n",
       "      <th>wiki_label_ru</th>\n",
       "      <th>wiki_label_uk</th>\n",
       "      <th>wiki_alias_en</th>\n",
       "      <th>wiki_alias_ru</th>\n",
       "      <th>wiki_alias_uk</th>\n",
       "      <th>lang</th>\n",
       "      <th>label</th>\n",
       "      <th>transl_name</th>\n",
       "      <th>transl_label_ru</th>\n",
       "      <th>transl_label_uk</th>\n",
       "      <th>transl_alias_ru</th>\n",
       "      <th>transl_alias_uk</th>\n",
       "    </tr>\n",
       "  </thead>\n",
       "  <tbody>\n",
       "    <tr>\n",
       "      <th>15</th>\n",
       "      <td>http://www.isi.edu/gaia/entities/90c6f6ec-b605-438f-a5cb-89ea35f628b9</td>\n",
       "      <td>ldcOnt:PER.Politician.HeadOfGovernment</td>\n",
       "      <td>(Путина,)</td>\n",
       "      <td>IC0015JFY</td>\n",
       "      <td>None</td>\n",
       "      <td>None</td>\n",
       "      <td>None</td>\n",
       "      <td>None</td>\n",
       "      <td>None</td>\n",
       "      <td>None</td>\n",
       "      <td>None</td>\n",
       "      <td>None</td>\n",
       "      <td>None</td>\n",
       "      <td>None</td>\n",
       "      <td>None</td>\n",
       "      <td>None</td>\n",
       "      <td>ru</td>\n",
       "      <td>((Putin. Now Putin ,),)</td>\n",
       "      <td>[putin's]</td>\n",
       "      <td>None</td>\n",
       "      <td>None</td>\n",
       "      <td>None</td>\n",
       "      <td>None</td>\n",
       "    </tr>\n",
       "    <tr>\n",
       "      <th>16</th>\n",
       "      <td>http://www.isi.edu/gaia/entities/b7291b40-d96b-4835-98eb-fba70e5d6251</td>\n",
       "      <td>ldcOnt:PER.Politician.HeadOfGovernment</td>\n",
       "      <td>(Виктором Федоровичем Януковичем,)</td>\n",
       "      <td>IC0015JFY</td>\n",
       "      <td>None</td>\n",
       "      <td>None</td>\n",
       "      <td>None</td>\n",
       "      <td>None</td>\n",
       "      <td>None</td>\n",
       "      <td>None</td>\n",
       "      <td>None</td>\n",
       "      <td>None</td>\n",
       "      <td>None</td>\n",
       "      <td>None</td>\n",
       "      <td>None</td>\n",
       "      <td>None</td>\n",
       "      <td>ru</td>\n",
       "      <td>None</td>\n",
       "      <td>[None]</td>\n",
       "      <td>None</td>\n",
       "      <td>None</td>\n",
       "      <td>None</td>\n",
       "      <td>None</td>\n",
       "    </tr>\n",
       "    <tr>\n",
       "      <th>41</th>\n",
       "      <td>http://www.isi.edu/gaia/entities/d19e9ae1-3ee7-42ff-b63b-76926b3a200d</td>\n",
       "      <td>ldcOnt:PER.Politician.HeadOfGovernment</td>\n",
       "      <td>(байкера Хирурга,)</td>\n",
       "      <td>IC0015JFY</td>\n",
       "      <td>None</td>\n",
       "      <td>None</td>\n",
       "      <td>None</td>\n",
       "      <td>None</td>\n",
       "      <td>None</td>\n",
       "      <td>None</td>\n",
       "      <td>None</td>\n",
       "      <td>None</td>\n",
       "      <td>None</td>\n",
       "      <td>None</td>\n",
       "      <td>None</td>\n",
       "      <td>None</td>\n",
       "      <td>ru</td>\n",
       "      <td>None</td>\n",
       "      <td>[байкера Хирурга]</td>\n",
       "      <td>None</td>\n",
       "      <td>None</td>\n",
       "      <td>None</td>\n",
       "      <td>None</td>\n",
       "    </tr>\n",
       "    <tr>\n",
       "      <th>52</th>\n",
       "      <td>http://www.isi.edu/gaia/entities/47516ee1-3744-4d38-9dab-a2f2d903d896</td>\n",
       "      <td>ldcOnt:GPE</td>\n",
       "      <td>(Керченскому,)</td>\n",
       "      <td>IC0015JFY</td>\n",
       "      <td>None</td>\n",
       "      <td>None</td>\n",
       "      <td>None</td>\n",
       "      <td>None</td>\n",
       "      <td>None</td>\n",
       "      <td>None</td>\n",
       "      <td>None</td>\n",
       "      <td>None</td>\n",
       "      <td>None</td>\n",
       "      <td>None</td>\n",
       "      <td>None</td>\n",
       "      <td>None</td>\n",
       "      <td>ru</td>\n",
       "      <td>None</td>\n",
       "      <td>[None]</td>\n",
       "      <td>None</td>\n",
       "      <td>None</td>\n",
       "      <td>None</td>\n",
       "      <td>None</td>\n",
       "    </tr>\n",
       "    <tr>\n",
       "      <th>66</th>\n",
       "      <td>http://www.isi.edu/gaia/entities/67cfd11d-6c95-454a-b84b-d7df6d39d745</td>\n",
       "      <td>ldcOnt:GPE.Country.Country</td>\n",
       "      <td>(субъект Федерации,)</td>\n",
       "      <td>IC0015JFY</td>\n",
       "      <td>None</td>\n",
       "      <td>None</td>\n",
       "      <td>None</td>\n",
       "      <td>None</td>\n",
       "      <td>None</td>\n",
       "      <td>None</td>\n",
       "      <td>None</td>\n",
       "      <td>None</td>\n",
       "      <td>None</td>\n",
       "      <td>None</td>\n",
       "      <td>None</td>\n",
       "      <td>None</td>\n",
       "      <td>ru</td>\n",
       "      <td>None</td>\n",
       "      <td>[None]</td>\n",
       "      <td>None</td>\n",
       "      <td>None</td>\n",
       "      <td>None</td>\n",
       "      <td>None</td>\n",
       "    </tr>\n",
       "  </tbody>\n",
       "</table>\n",
       "</div>"
      ],
      "text/plain": [
       "                                                                        e                                    type                                name     source targets target_scores  fbid fbid_score_avg fbid_score_max wikidata wiki_label_en wiki_label_ru wiki_label_uk wiki_alias_en wiki_alias_ru wiki_alias_uk lang                    label        transl_name transl_label_ru transl_label_uk transl_alias_ru transl_alias_uk\n",
       "15  http://www.isi.edu/gaia/entities/90c6f6ec-b605-438f-a5cb-89ea35f628b9  ldcOnt:PER.Politician.HeadOfGovernment                           (Путина,)  IC0015JFY    None          None  None           None           None     None          None          None          None          None          None          None   ru  ((Putin. Now Putin ,),)          [putin's]            None            None            None            None\n",
       "16  http://www.isi.edu/gaia/entities/b7291b40-d96b-4835-98eb-fba70e5d6251  ldcOnt:PER.Politician.HeadOfGovernment  (Виктором Федоровичем Януковичем,)  IC0015JFY    None          None  None           None           None     None          None          None          None          None          None          None   ru                     None             [None]            None            None            None            None\n",
       "41  http://www.isi.edu/gaia/entities/d19e9ae1-3ee7-42ff-b63b-76926b3a200d  ldcOnt:PER.Politician.HeadOfGovernment                  (байкера Хирурга,)  IC0015JFY    None          None  None           None           None     None          None          None          None          None          None          None   ru                     None  [байкера Хирурга]            None            None            None            None\n",
       "52  http://www.isi.edu/gaia/entities/47516ee1-3744-4d38-9dab-a2f2d903d896                              ldcOnt:GPE                      (Керченскому,)  IC0015JFY    None          None  None           None           None     None          None          None          None          None          None          None   ru                     None             [None]            None            None            None            None\n",
       "66  http://www.isi.edu/gaia/entities/67cfd11d-6c95-454a-b84b-d7df6d39d745              ldcOnt:GPE.Country.Country                (субъект Федерации,)  IC0015JFY    None          None  None           None           None     None          None          None          None          None          None          None   ru                     None             [None]            None            None            None            None"
      ]
     },
     "execution_count": 497,
     "metadata": {},
     "output_type": "execute_result"
    }
   ],
   "source": [
    "df_entity[df_entity['targets'].isnull() & df_entity['fbid'].isnull()].head()"
   ]
  },
  {
   "cell_type": "code",
   "execution_count": 498,
   "metadata": {},
   "outputs": [],
   "source": [
    "singleton_ids = df_singleton.tolist()"
   ]
  },
  {
   "cell_type": "code",
   "execution_count": 499,
   "metadata": {},
   "outputs": [
    {
     "data": {
      "text/plain": [
       "16489"
      ]
     },
     "execution_count": 499,
     "metadata": {},
     "output_type": "execute_result"
    }
   ],
   "source": [
    "len_singleton = len(singleton_ids)\n",
    "len_singleton"
   ]
  },
  {
   "cell_type": "code",
   "execution_count": 500,
   "metadata": {},
   "outputs": [
    {
     "name": "stdout",
     "output_type": "stream",
     "text": [
      " 16488"
     ]
    }
   ],
   "source": [
    "from copy import deepcopy\n",
    "merged_all_clusters = deepcopy(all_clusters_splitted)\n",
    "MIN_SIM = 0.4\n",
    "\n",
    "for idx, rid in enumerate(singleton_ids):\n",
    "    print('\\r', idx, end='')\n",
    "    added = False\n",
    "    r = ds.get_record(rid)\n",
    "    r_type = normalize_type(r.type)\n",
    "    for c in merged_all_clusters:\n",
    "        sim = c.similarity(r)\n",
    "        if r_type != c.type:\n",
    "            continue\n",
    "        if sim >= MIN_SIM:\n",
    "            c.add(r, contribute=False)\n",
    "            added = True\n",
    "    # still singleton\n",
    "    if not added:\n",
    "        c = Cluster(ds)\n",
    "        c.type = r_type\n",
    "        c.add(r)\n",
    "        merged_all_clusters.append(c)"
   ]
  },
  {
   "cell_type": "code",
   "execution_count": 501,
   "metadata": {},
   "outputs": [
    {
     "data": {
      "text/plain": [
       "19209"
      ]
     },
     "execution_count": 501,
     "metadata": {},
     "output_type": "execute_result"
    }
   ],
   "source": [
    "len(merged_all_clusters)"
   ]
  },
  {
   "cell_type": "code",
   "execution_count": 502,
   "metadata": {},
   "outputs": [
    {
     "data": {
      "text/plain": [
       "22613"
      ]
     },
     "execution_count": 502,
     "metadata": {},
     "output_type": "execute_result"
    }
   ],
   "source": [
    "len_singleton + len_all_clusters_splitted"
   ]
  },
  {
   "cell_type": "code",
   "execution_count": 503,
   "metadata": {},
   "outputs": [
    {
     "data": {
      "text/plain": [
       "3404"
      ]
     },
     "execution_count": 503,
     "metadata": {},
     "output_type": "execute_result"
    }
   ],
   "source": [
    "len_singleton + len_all_clusters_splitted - len(merged_all_clusters)"
   ]
  },
  {
   "cell_type": "code",
   "execution_count": 504,
   "metadata": {},
   "outputs": [],
   "source": [
    "# # find merged singletons\n",
    "# select_count = 50\n",
    "# for rid in singleton_ids:\n",
    "#     for c in merged_all_clusters:\n",
    "#         if rid in c.all_records and len(c.all_records) > 1:\n",
    "#             for rid_ in c.all_records:\n",
    "#                 r = ds.get_record(rid_)\n",
    "#                 if r.targets:\n",
    "#                     print('targets', r.targets, rid, c.all_records)\n",
    "#                     print('-----------------')\n",
    "#                     break\n",
    "# #             print(c.all_records, rid)\n",
    "# #             print('-----------------')\n",
    "#             select_count -= 1\n",
    "#             break\n",
    "#     if select_count <= 0:\n",
    "#         break"
   ]
  },
  {
   "cell_type": "code",
   "execution_count": 505,
   "metadata": {},
   "outputs": [],
   "source": [
    "# r = ds.get_record('http://www.isi.edu/gaia/entities/50163156-1d27-45b2-9fca-011ad9f661ea')\n",
    "# print(r.name, r.targets, r.concatenated_labels)\n",
    "# r = ds.get_record('http://www.isi.edu/gaia/entities/d557fcd9-3c2a-4f3c-a749-5d4f5de1e1e5')\n",
    "# print(r.name, r.targets, r.concatenated_labels)\n",
    "# r = ds.get_record('http://www.isi.edu/gaia/entities/3804847e-12d5-4fba-96a6-cf8c78914e19')\n",
    "# print(r.name, r.targets, r.concatenated_labels)\n",
    "# r = ds.get_record('http://www.isi.edu/gaia/entities/d0e5b877-597d-4140-9197-f152a88fb932')\n",
    "# print(r.name, r.targets, r.concatenated_labels)\n",
    "# r = ds.get_record('http://www.isi.edu/gaia/entities/767f0133-7fdc-4a3e-8e15-e1203b8d9bfe')\n",
    "# print(r.name, r.targets, r.concatenated_labels, r.selected_targets)\n",
    "# r = ds.get_record('http://www.isi.edu/gaia/entities/5ea2c3d8-4348-48a3-82d4-b8eb3c4a2dcc')\n",
    "# print(r.name, r.targets, r.concatenated_labels)\n",
    "# r = ds.get_record('http://www.isi.edu/gaia/entities/de97de20-0cb4-4189-b8e4-26dec6033ba5')\n",
    "# print(r.name, r.targets, r.selected_targets, r.concatenated_labels)"
   ]
  },
  {
   "cell_type": "code",
   "execution_count": 506,
   "metadata": {},
   "outputs": [],
   "source": [
    "# r = ds.get_record('http://www.isi.edu/gaia/entities/c0aa107f-d4d6-43c8-81df-d4541dac9b76')\n",
    "# print(r.name, r.targets, r.concatenated_labels)\n",
    "# r = ds.get_record('http://www.isi.edu/gaia/entities/ea75c413-d572-42d7-86f6-d39d7dc180d8')\n",
    "# print(r.name, r.targets, r.concatenated_labels)\n",
    "# r = ds.get_record('http://www.isi.edu/gaia/entities/70ecb2fd-9c41-4378-b332-c872611102c8')\n",
    "# print(r.name, r.targets, r.concatenated_labels)"
   ]
  },
  {
   "cell_type": "markdown",
   "metadata": {},
   "source": [
    "# merge similar clusters"
   ]
  },
  {
   "cell_type": "code",
   "execution_count": 507,
   "metadata": {},
   "outputs": [],
   "source": [
    "# # generate most common label\n",
    "# merged_most_common_labels = []\n",
    "# for c in merged_all_clusters:\n",
    "#     name_count = defaultdict(int)\n",
    "#     for rid in c.all_records:\n",
    "#         for n in ds.get_record(rid).name:\n",
    "#             name_count[n] += 1\n",
    "#     merged_most_common_labels.append(sorted(name_count.items(), key=lambda x: x[1], reverse=True)[0][0])"
   ]
  },
  {
   "cell_type": "code",
   "execution_count": 508,
   "metadata": {},
   "outputs": [],
   "source": [
    "# # merge\n",
    "# # self.attractive_records = set([])  # contribute to clustering\n",
    "# # self.all_records = set([])\n",
    "# # self.ds = ds\n",
    "# # self.type = None\n",
    "# # self.wd_id = set([])\n",
    "# # self.kb_id = set([])\n",
    "# # self.fb_id = set([])\n",
    "    \n",
    "# deduped_merged_all_clusters = {}\n",
    "# for idx, c in enumerate(merged_all_clusters):\n",
    "#     key = merged_most_common_labels[idx] + ' ' + c.type\n",
    "#     if key not in deduped_merged_all_clusters:\n",
    "#         deduped_merged_all_clusters[key] = Cluster(ds)\n",
    "#         deduped_merged_all_clusters[key].main_label = merged_most_common_labels[idx]\n",
    "#         deduped_merged_all_clusters[key].type = c.type\n",
    "        \n",
    "#     deduped_merged_all_clusters[key].all_records |= c.all_records\n",
    "#     deduped_merged_all_clusters[key].attractive_records |= c.attractive_records\n",
    "#     deduped_merged_all_clusters[key].wd_id |= c.wd_id\n",
    "#     deduped_merged_all_clusters[key].kb_id |= c.kb_id\n",
    "#     deduped_merged_all_clusters[key].fb_id |= c.fb_id"
   ]
  },
  {
   "cell_type": "code",
   "execution_count": 509,
   "metadata": {},
   "outputs": [],
   "source": [
    "# len(merged_all_clusters) - len(deduped_merged_all_clusters)"
   ]
  },
  {
   "cell_type": "code",
   "execution_count": 510,
   "metadata": {},
   "outputs": [],
   "source": [
    "# all clusters have more than one kb id\n",
    "for idx, c in enumerate(merged_all_clusters):\n",
    "    if len(c.kb_id) > 1:\n",
    "        print(c.main_label, len(c.all_records), len(c.attractive_records),len(c.kb_id), list(c.kb_id)[:10])\n",
    "#     if idx == 100:\n",
    "#         break"
   ]
  },
  {
   "cell_type": "code",
   "execution_count": 511,
   "metadata": {},
   "outputs": [
    {
     "data": {
      "text/plain": [
       "26"
      ]
     },
     "execution_count": 511,
     "metadata": {},
     "output_type": "execute_result"
    }
   ],
   "source": [
    "# all the clusters which have more than 1000 records\n",
    "cnt = 0\n",
    "for idx, c in enumerate(merged_all_clusters):\n",
    "    if len(c.all_records) > 100:\n",
    "#         print(c.main_label, len(c.all_records), len(c.attractive_records),len(c.kb_id), list(c.kb_id)[:10])\n",
    "        cnt += 1\n",
    "cnt"
   ]
  },
  {
   "cell_type": "code",
   "execution_count": 512,
   "metadata": {},
   "outputs": [],
   "source": [
    "# for idx, c in enumerate(deduped_merged_all_clusters.values()):\n",
    "#     if len(c.kb_id) > 1:\n",
    "#         print(c.main_label, len(c.all_records), len(c.attractive_records),len(c.kb_id), list(c.kb_id)[:10])\n",
    "# #     if idx == 100:\n",
    "# #         break"
   ]
  },
  {
   "cell_type": "code",
   "execution_count": 513,
   "metadata": {},
   "outputs": [],
   "source": [
    "# # all the clusters which have more than 1000 records\n",
    "# for idx, c in enumerate(deduped_merged_all_clusters.values()):\n",
    "#     if len(c.all_records) > 1000:\n",
    "#         print(c.main_label, len(c.all_records), len(c.attractive_records),len(c.kb_id), list(c.kb_id)[:10])"
   ]
  },
  {
   "cell_type": "code",
   "execution_count": 514,
   "metadata": {},
   "outputs": [],
   "source": [
    "import json\n",
    "\n",
    "with open(output_path, 'w') as f:\n",
    "    for c in merged_all_clusters:\n",
    "        f.write(json.dumps(list(c.all_records)) + '\\n')\n",
    "# with open('clusters-20190710-001-debug.jl', 'w') as f:\n",
    "#     for c in merged_all_clusters:\n",
    "#         f.write(json.dumps(debug_output(c, 'complete')) + '\\n')"
   ]
  },
  {
   "cell_type": "markdown",
   "metadata": {},
   "source": [
    "# Augment labels for entities have no id"
   ]
  },
  {
   "cell_type": "code",
   "execution_count": null,
   "metadata": {},
   "outputs": [],
   "source": []
  }
 ],
 "metadata": {
  "kernelspec": {
   "display_name": "py36",
   "language": "python",
   "name": "py36"
  },
  "language_info": {
   "codemirror_mode": {
    "name": "ipython",
    "version": 3
   },
   "file_extension": ".py",
   "mimetype": "text/x-python",
   "name": "python",
   "nbconvert_exporter": "python",
   "pygments_lexer": "ipython3",
   "version": "3.6.8"
  }
 },
 "nbformat": 4,
 "nbformat_minor": 2
}
